{
  "nbformat": 4,
  "nbformat_minor": 0,
  "metadata": {
    "colab": {
      "name": "Self-similar Fractals",
      "provenance": [],
      "private_outputs": true,
      "collapsed_sections": [],
      "toc_visible": true,
      "authorship_tag": "ABX9TyMx3KOSHEsSYrqLONAITV6F",
      "include_colab_link": true
    },
    "kernelspec": {
      "name": "python3",
      "display_name": "Python 3"
    }
  },
  "cells": [
    {
      "cell_type": "markdown",
      "metadata": {
        "id": "view-in-github",
        "colab_type": "text"
      },
      "source": [
        "<a href=\"https://colab.research.google.com/github/sidbannet/math-projects/blob/develop/demo_mandelbrot_fractals.ipynb\" target=\"_parent\"><img src=\"https://colab.research.google.com/assets/colab-badge.svg\" alt=\"Open In Colab\"/></a>"
      ]
    },
    {
      "cell_type": "markdown",
      "metadata": {
        "id": "HPXF_Q_R9EVb",
        "colab_type": "text"
      },
      "source": [
        "# Preamble\n",
        "\n",
        "Fractal is a sub-set of [Eucledian space](https://en.wikipedia.org/wiki/Euclidean_space) in which [fractal dimension](https://en.wikipedia.org/wiki/Hausdorff_dimension) is strictly exceeds [topological dimension](https://en.wikipedia.org/wiki/Lebesgue_covering_dimension). Self-similar fractals are geometrical objects that are similar to itself at all length scales.\n",
        "\n",
        "Fractals are extensively found in nature. So, it is used extensively to model nature. This topic is relatively new and falls under broader subject of [Chaos](https://en.wikipedia.org/wiki/Chaos_theory).\n",
        "\n",
        "Few interesting resources I found are:\n",
        "\n",
        "\n",
        "*   [Space Telescope Science Institue](http://www.stsci.edu/~lbradley/seminar/fractals.html)\n",
        "*   [Fractals and Humans](http://www.fractal.org/Life-Science-Technology/Publications/Fractals-and-Human-Biology.pdf)\n",
        "\n"
      ]
    },
    {
      "cell_type": "markdown",
      "metadata": {
        "id": "tBlIMZZvLXIr",
        "colab_type": "text"
      },
      "source": [
        "# Author Bio\n",
        "\n",
        "[LinkedIn profile](https://www.linkedin.com/in/sidban)\n",
        "\n",
        "[Resume](https://drive.google.com/drive/folders/0B1dMpDQEdsuTMWUzYjYxOGQtMzI0Yi00NDczLThkYjktYWJhNTE5NTg2OTRl)\n",
        "\n",
        "I received PhD in Engineering and from University of Wisconsin - Madison in 2011 with Major in Mechanical and Chemical Engineering and Minor in Maths, Stats and Computer Science. I developed high-performance computation models to understand turbulence flow, multi-phase flow and combustion flames. I apply data-science to accelerate design innovations for novel power machines."
      ]
    },
    {
      "cell_type": "markdown",
      "metadata": {
        "id": "6ACj_egyhcGD",
        "colab_type": "text"
      },
      "source": [
        "# Set environment\n",
        "\n",
        "Need to clone my [code repository](https://github.com/sidbannet/math-projects) and import appropriate packages required for this notebook."
      ]
    },
    {
      "cell_type": "code",
      "metadata": {
        "id": "_re-A_KdhUPn",
        "colab_type": "code",
        "colab": {}
      },
      "source": [
        "# Clone git repository\n",
        "\n",
        "!git clone https://github.com/sidbannet/math-projects.git\n",
        "%cd ./math-projects"
      ],
      "execution_count": 0,
      "outputs": []
    },
    {
      "cell_type": "code",
      "metadata": {
        "id": "HWW9CqRbiDHE",
        "colab_type": "code",
        "colab": {}
      },
      "source": [
        "# Import nessesary packages\n",
        "from mathlib import fractals as f\n",
        "from IPython.display import Image as ImageDisp"
      ],
      "execution_count": 0,
      "outputs": []
    },
    {
      "cell_type": "markdown",
      "metadata": {
        "id": "Dr8kuMLbhPTr",
        "colab_type": "text"
      },
      "source": [
        "# Mandelbrot Set\n",
        "\n",
        "The Mandelbrot set is named after famous mathematician [Benoit Mandelbrot](https://en.wikipedia.org/wiki/Benoit_Mandelbrot). He famously showed how vizual complexities can be created from simple rule.\n",
        "\n",
        "The [Mandelbrot set](https://en.wikipedia.org/wiki/Mandelbrot_set) is a set of complex numbers $c$ for which the function $f_c(z) = z^{2} + c$ does not diverge when iterated from $z_0 = 0$. In other words, the sequence $ f_c(0), f_c(f_c(0)), ... $ remains bounded in absolute value.\n"
      ]
    },
    {
      "cell_type": "code",
      "metadata": {
        "id": "vKjlEdNqkwn7",
        "colab_type": "code",
        "colab": {}
      },
      "source": [
        "# Define the instance of Mandelbrot set\n",
        "mb = f.Mandelbrot()"
      ],
      "execution_count": 0,
      "outputs": []
    },
    {
      "cell_type": "code",
      "metadata": {
        "id": "gBxgJJqjlDWG",
        "colab_type": "code",
        "colab": {}
      },
      "source": [
        "# Make Mandelbrot Fractal and display it\n",
        "Name_of_Image_File = 'Mandelbrot_Fractal.png'\n",
        "Type_of_Image_File = 'PNG'\n",
        "im = mb.image(color=True)\n",
        "im.save(Name_of_Image_File, Type_of_Image_File)\n",
        "ImageDisp(filename=Name_of_Image_File)"
      ],
      "execution_count": 0,
      "outputs": []
    }
  ]
}