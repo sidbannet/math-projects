{
  "nbformat": 4,
  "nbformat_minor": 0,
  "metadata": {
    "colab": {
      "name": "Interactive demonstration of logistic map equation",
      "provenance": [],
      "collapsed_sections": [],
      "toc_visible": true,
      "authorship_tag": "ABX9TyOq3Y8PtzJfGtqK2JW0Rg+S",
      "include_colab_link": true
    },
    "kernelspec": {
      "name": "python3",
      "display_name": "Python 3"
    },
    "widgets": {
      "application/vnd.jupyter.widget-state+json": {
        "896bf257520c4ee7800cd12efaaf8a07": {
          "model_module": "@jupyter-widgets/controls",
          "model_name": "VBoxModel",
          "state": {
            "_view_name": "VBoxView",
            "_dom_classes": [
              "widget-interact"
            ],
            "_model_name": "VBoxModel",
            "_view_module": "@jupyter-widgets/controls",
            "_model_module_version": "1.5.0",
            "_view_count": null,
            "_view_module_version": "1.5.0",
            "box_style": "",
            "layout": "IPY_MODEL_aee2736f7ae64ded8f73ed622a08cbf4",
            "_model_module": "@jupyter-widgets/controls",
            "children": [
              "IPY_MODEL_ae201210d0094f3c8de558c58ae8bb61",
              "IPY_MODEL_558f3abf62b8405686a1c481051e7edf",
              "IPY_MODEL_12464b6afeee4d62b2f8800f7397956f",
              "IPY_MODEL_637bc3d452b74ad58c0b8858c23896a1"
            ]
          }
        },
        "aee2736f7ae64ded8f73ed622a08cbf4": {
          "model_module": "@jupyter-widgets/base",
          "model_name": "LayoutModel",
          "state": {
            "_view_name": "LayoutView",
            "grid_template_rows": null,
            "right": null,
            "justify_content": null,
            "_view_module": "@jupyter-widgets/base",
            "overflow": null,
            "_model_module_version": "1.2.0",
            "_view_count": null,
            "flex_flow": null,
            "width": null,
            "min_width": null,
            "border": null,
            "align_items": null,
            "bottom": null,
            "_model_module": "@jupyter-widgets/base",
            "top": null,
            "grid_column": null,
            "overflow_y": null,
            "overflow_x": null,
            "grid_auto_flow": null,
            "grid_area": null,
            "grid_template_columns": null,
            "flex": null,
            "_model_name": "LayoutModel",
            "justify_items": null,
            "grid_row": null,
            "max_height": null,
            "align_content": null,
            "visibility": null,
            "align_self": null,
            "height": null,
            "min_height": null,
            "padding": null,
            "grid_auto_rows": null,
            "grid_gap": null,
            "max_width": null,
            "order": null,
            "_view_module_version": "1.2.0",
            "grid_template_areas": null,
            "object_position": null,
            "object_fit": null,
            "grid_auto_columns": null,
            "margin": null,
            "display": null,
            "left": null
          }
        },
        "ae201210d0094f3c8de558c58ae8bb61": {
          "model_module": "@jupyter-widgets/controls",
          "model_name": "FloatSliderModel",
          "state": {
            "_view_name": "FloatSliderView",
            "style": "IPY_MODEL_a80d7fc789cc414b86a0a4422e58290c",
            "_dom_classes": [],
            "description": "r",
            "step": 0.1,
            "_model_name": "FloatSliderModel",
            "orientation": "horizontal",
            "max": 6.6000000000000005,
            "_view_module": "@jupyter-widgets/controls",
            "_model_module_version": "1.5.0",
            "value": 3.2,
            "_view_count": null,
            "disabled": false,
            "_view_module_version": "1.5.0",
            "min": -2.2,
            "continuous_update": true,
            "readout_format": ".2f",
            "description_tooltip": null,
            "readout": true,
            "_model_module": "@jupyter-widgets/controls",
            "layout": "IPY_MODEL_a2c21c617e2c4433a73a085f0aedc08c"
          }
        },
        "558f3abf62b8405686a1c481051e7edf": {
          "model_module": "@jupyter-widgets/controls",
          "model_name": "FloatSliderModel",
          "state": {
            "_view_name": "FloatSliderView",
            "style": "IPY_MODEL_f04b2a1e1c344b98b16b519c4ff1c321",
            "_dom_classes": [],
            "description": "x_o",
            "step": 0.1,
            "_model_name": "FloatSliderModel",
            "orientation": "horizontal",
            "max": 1.5,
            "_view_module": "@jupyter-widgets/controls",
            "_model_module_version": "1.5.0",
            "value": 0.9,
            "_view_count": null,
            "disabled": false,
            "_view_module_version": "1.5.0",
            "min": -0.5,
            "continuous_update": true,
            "readout_format": ".2f",
            "description_tooltip": null,
            "readout": true,
            "_model_module": "@jupyter-widgets/controls",
            "layout": "IPY_MODEL_2cfdc117962f4f08b536ea4c693fe80a"
          }
        },
        "12464b6afeee4d62b2f8800f7397956f": {
          "model_module": "@jupyter-widgets/controls",
          "model_name": "IntSliderModel",
          "state": {
            "_view_name": "IntSliderView",
            "style": "IPY_MODEL_a9ea2f47a6ae483ba3029b3be6ce3852",
            "_dom_classes": [],
            "description": "n",
            "step": 1,
            "_model_name": "IntSliderModel",
            "orientation": "horizontal",
            "max": 300,
            "_view_module": "@jupyter-widgets/controls",
            "_model_module_version": "1.5.0",
            "value": 35,
            "_view_count": null,
            "disabled": false,
            "_view_module_version": "1.5.0",
            "min": -100,
            "continuous_update": true,
            "readout_format": "d",
            "description_tooltip": null,
            "readout": true,
            "_model_module": "@jupyter-widgets/controls",
            "layout": "IPY_MODEL_def0650f09694edf9d66262acce0a15c"
          }
        },
        "637bc3d452b74ad58c0b8858c23896a1": {
          "model_module": "@jupyter-widgets/output",
          "model_name": "OutputModel",
          "state": {
            "_view_name": "OutputView",
            "msg_id": "",
            "_dom_classes": [],
            "_model_name": "OutputModel",
            "outputs": [
              {
                "output_type": "display_data",
                "metadata": {
                  "tags": []
                },
                "image/png": "iVBORw0KGgoAAAANSUhEUgAAAYoAAAEjCAYAAAAsbUY2AAAABHNCSVQICAgIfAhkiAAAAAlwSFlz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\nRU5ErkJggg==\n",
                "text/plain": "<Figure size 432x288 with 2 Axes>"
              }
            ],
            "_view_module": "@jupyter-widgets/output",
            "_model_module_version": "1.0.0",
            "_view_count": null,
            "_view_module_version": "1.0.0",
            "layout": "IPY_MODEL_2d2a52de6fec4091865a8125655ae748",
            "_model_module": "@jupyter-widgets/output"
          }
        },
        "a80d7fc789cc414b86a0a4422e58290c": {
          "model_module": "@jupyter-widgets/controls",
          "model_name": "SliderStyleModel",
          "state": {
            "_view_name": "StyleView",
            "handle_color": null,
            "_model_name": "SliderStyleModel",
            "description_width": "",
            "_view_module": "@jupyter-widgets/base",
            "_model_module_version": "1.5.0",
            "_view_count": null,
            "_view_module_version": "1.2.0",
            "_model_module": "@jupyter-widgets/controls"
          }
        },
        "a2c21c617e2c4433a73a085f0aedc08c": {
          "model_module": "@jupyter-widgets/base",
          "model_name": "LayoutModel",
          "state": {
            "_view_name": "LayoutView",
            "grid_template_rows": null,
            "right": null,
            "justify_content": null,
            "_view_module": "@jupyter-widgets/base",
            "overflow": null,
            "_model_module_version": "1.2.0",
            "_view_count": null,
            "flex_flow": null,
            "width": null,
            "min_width": null,
            "border": null,
            "align_items": null,
            "bottom": null,
            "_model_module": "@jupyter-widgets/base",
            "top": null,
            "grid_column": null,
            "overflow_y": null,
            "overflow_x": null,
            "grid_auto_flow": null,
            "grid_area": null,
            "grid_template_columns": null,
            "flex": null,
            "_model_name": "LayoutModel",
            "justify_items": null,
            "grid_row": null,
            "max_height": null,
            "align_content": null,
            "visibility": null,
            "align_self": null,
            "height": null,
            "min_height": null,
            "padding": null,
            "grid_auto_rows": null,
            "grid_gap": null,
            "max_width": null,
            "order": null,
            "_view_module_version": "1.2.0",
            "grid_template_areas": null,
            "object_position": null,
            "object_fit": null,
            "grid_auto_columns": null,
            "margin": null,
            "display": null,
            "left": null
          }
        },
        "f04b2a1e1c344b98b16b519c4ff1c321": {
          "model_module": "@jupyter-widgets/controls",
          "model_name": "SliderStyleModel",
          "state": {
            "_view_name": "StyleView",
            "handle_color": null,
            "_model_name": "SliderStyleModel",
            "description_width": "",
            "_view_module": "@jupyter-widgets/base",
            "_model_module_version": "1.5.0",
            "_view_count": null,
            "_view_module_version": "1.2.0",
            "_model_module": "@jupyter-widgets/controls"
          }
        },
        "2cfdc117962f4f08b536ea4c693fe80a": {
          "model_module": "@jupyter-widgets/base",
          "model_name": "LayoutModel",
          "state": {
            "_view_name": "LayoutView",
            "grid_template_rows": null,
            "right": null,
            "justify_content": null,
            "_view_module": "@jupyter-widgets/base",
            "overflow": null,
            "_model_module_version": "1.2.0",
            "_view_count": null,
            "flex_flow": null,
            "width": null,
            "min_width": null,
            "border": null,
            "align_items": null,
            "bottom": null,
            "_model_module": "@jupyter-widgets/base",
            "top": null,
            "grid_column": null,
            "overflow_y": null,
            "overflow_x": null,
            "grid_auto_flow": null,
            "grid_area": null,
            "grid_template_columns": null,
            "flex": null,
            "_model_name": "LayoutModel",
            "justify_items": null,
            "grid_row": null,
            "max_height": null,
            "align_content": null,
            "visibility": null,
            "align_self": null,
            "height": null,
            "min_height": null,
            "padding": null,
            "grid_auto_rows": null,
            "grid_gap": null,
            "max_width": null,
            "order": null,
            "_view_module_version": "1.2.0",
            "grid_template_areas": null,
            "object_position": null,
            "object_fit": null,
            "grid_auto_columns": null,
            "margin": null,
            "display": null,
            "left": null
          }
        },
        "a9ea2f47a6ae483ba3029b3be6ce3852": {
          "model_module": "@jupyter-widgets/controls",
          "model_name": "SliderStyleModel",
          "state": {
            "_view_name": "StyleView",
            "handle_color": null,
            "_model_name": "SliderStyleModel",
            "description_width": "",
            "_view_module": "@jupyter-widgets/base",
            "_model_module_version": "1.5.0",
            "_view_count": null,
            "_view_module_version": "1.2.0",
            "_model_module": "@jupyter-widgets/controls"
          }
        },
        "def0650f09694edf9d66262acce0a15c": {
          "model_module": "@jupyter-widgets/base",
          "model_name": "LayoutModel",
          "state": {
            "_view_name": "LayoutView",
            "grid_template_rows": null,
            "right": null,
            "justify_content": null,
            "_view_module": "@jupyter-widgets/base",
            "overflow": null,
            "_model_module_version": "1.2.0",
            "_view_count": null,
            "flex_flow": null,
            "width": null,
            "min_width": null,
            "border": null,
            "align_items": null,
            "bottom": null,
            "_model_module": "@jupyter-widgets/base",
            "top": null,
            "grid_column": null,
            "overflow_y": null,
            "overflow_x": null,
            "grid_auto_flow": null,
            "grid_area": null,
            "grid_template_columns": null,
            "flex": null,
            "_model_name": "LayoutModel",
            "justify_items": null,
            "grid_row": null,
            "max_height": null,
            "align_content": null,
            "visibility": null,
            "align_self": null,
            "height": null,
            "min_height": null,
            "padding": null,
            "grid_auto_rows": null,
            "grid_gap": null,
            "max_width": null,
            "order": null,
            "_view_module_version": "1.2.0",
            "grid_template_areas": null,
            "object_position": null,
            "object_fit": null,
            "grid_auto_columns": null,
            "margin": null,
            "display": null,
            "left": null
          }
        }
      }
    }
  },
  "cells": [
    {
      "cell_type": "markdown",
      "metadata": {
        "id": "view-in-github",
        "colab_type": "text"
      },
      "source": [
        "<a href=\"https://colab.research.google.com/github/sidbannet/math-projects/blob/develop/demo_logistic_map.ipynb\" target=\"_parent\"><img src=\"https://colab.research.google.com/assets/colab-badge.svg\" alt=\"Open In Colab\"/></a>"
      ]
    },
    {
      "cell_type": "markdown",
      "metadata": {
        "id": "OQB0VQ1DkQOr",
        "colab_type": "text"
      },
      "source": [
        "# About logistic map equation\n",
        "\n",
        "**This code explores logistic map equation in real plane**\n",
        "\n",
        "\n",
        "Inspired by logistic map equation. A nice [video](https://youtu.be/ovJcsL7vyrk) is a good way to get introduced to this equation. Other good articles are [online article](https://www.complexity-explorables.org/flongs/logistic/) and [wiki](https://en.wikipedia.org/wiki/Logistic_map) that explains the logistic map equation and it's properties. [Chaos theory](https://geoffboeing.com/2015/03/chaos-theory-logistic-map/) is a branch of mathematics dealing with non-linear dynamical systems. A [paper](https://geoffboeing.com/publications/nonlinear-chaos-fractals-prediction/) writes more in-depth about chaos, fractals and self-similarity and articulates the beauty of this equation. \n",
        "\n",
        "The simple equation is of this form:\n",
        "$$ x_{n+1} = r x_{n} (1 - x_{n}) $$\n",
        "Where, $ x_n $ is the nth generation of value x and x is real number between $[0, 1]$ and $ r $ is the growth rate which is a real number $ >0 $"
      ]
    },
    {
      "cell_type": "markdown",
      "metadata": {
        "id": "I5x_XKVjgNeU",
        "colab_type": "text"
      },
      "source": [
        "# Clone the git repo\n",
        "\n",
        "In this section we are setting up the colab environment to explore this equation's properties.\n",
        "\n",
        "*   Cloning git repository to demonstrate logistic map\n",
        "*   Get appropriate environment\n",
        "\n"
      ]
    },
    {
      "cell_type": "code",
      "metadata": {
        "id": "tmF8cVopTTJe",
        "colab_type": "code",
        "outputId": "6aed8bb1-d8b7-420b-c1f1-04fa52b363c8",
        "cellView": "both",
        "colab": {
          "base_uri": "https://localhost:8080/",
          "height": 153
        }
      },
      "source": [
        "#@cloning\n",
        "!git clone https://github.com/sidbannet/math-projects.git\n",
        "%cd ./math-projects"
      ],
      "execution_count": 1,
      "outputs": [
        {
          "output_type": "stream",
          "text": [
            "Cloning into 'math-projects'...\n",
            "remote: Enumerating objects: 176, done.\u001b[K\n",
            "remote: Counting objects: 100% (176/176), done.\u001b[K\n",
            "remote: Compressing objects: 100% (117/117), done.\u001b[K\n",
            "remote: Total 176 (delta 89), reused 111 (delta 54), pack-reused 0\u001b[K\n",
            "Receiving objects: 100% (176/176), 212.96 KiB | 8.87 MiB/s, done.\n",
            "Resolving deltas: 100% (89/89), done.\n",
            "/content/math-projects\n"
          ],
          "name": "stdout"
        }
      ]
    },
    {
      "cell_type": "markdown",
      "metadata": {
        "id": "1ObDuvr8gopH",
        "colab_type": "text"
      },
      "source": [
        "# Load packages"
      ]
    },
    {
      "cell_type": "code",
      "metadata": {
        "id": "63VesCJLUJRu",
        "colab_type": "code",
        "colab": {}
      },
      "source": [
        "from mathlib import logistic_map as lm\n",
        "from ipywidgets import interact, interactive, fixed, interact_manual\n",
        "import ipywidgets as widgets"
      ],
      "execution_count": 0,
      "outputs": []
    },
    {
      "cell_type": "markdown",
      "metadata": {
        "id": "OXSzrnM5gysA",
        "colab_type": "text"
      },
      "source": [
        "# Preamble\n",
        "\n",
        "**Solve**\n",
        "\n",
        "Here initialize the logistic map in `prob = lm.Marching(growth_rate, initial_value)` with these following parameters:\n",
        "\n",
        "*   $r$ as **growth_rate**\n",
        "*   $x_0$ as **initial_value**\n",
        "\n",
        "Here, `prob` is *object* of *class* `lm`\n",
        "\n",
        "Then, solve and iterate the logistic map equation for $x_{n}$ till **number_of_generations** in `prob.solve`\n",
        "\n",
        "We will use these simple cells to demonstrate the logistic map in simpliest form\n",
        "\n",
        "\n",
        "```\n",
        "# Import nesessary modules\n",
        "from mathlib import logistic_map as lm\n",
        "from ipywidgets import interact, interactive, fixed, interact_manual\n",
        "import ipywidgets as widgets\n",
        "\n",
        "# Define the object, solve and make plots of solution\n",
        "prob = lm.Marching(growth_rate=r, initial_value=x_o)\n",
        "prob.solve(number_of_generations=n)\n",
        "fig, ax, fig_prop = prob.plots() \n",
        "\n",
        "```\n",
        "\n"
      ]
    },
    {
      "cell_type": "markdown",
      "metadata": {
        "id": "Aw-6Fm9HcTUr",
        "colab_type": "text"
      },
      "source": [
        "# Interact with the logistic map equation\n",
        "\n",
        "Use the sliders to play with this equation and see how it's response changes with parameters $r$ and $x_0$"
      ]
    },
    {
      "cell_type": "code",
      "metadata": {
        "id": "E3L0TXRrohjU",
        "colab_type": "code",
        "colab": {
          "base_uri": "https://localhost:8080/",
          "height": 404,
          "referenced_widgets": [
            "896bf257520c4ee7800cd12efaaf8a07",
            "aee2736f7ae64ded8f73ed622a08cbf4",
            "ae201210d0094f3c8de558c58ae8bb61",
            "558f3abf62b8405686a1c481051e7edf",
            "12464b6afeee4d62b2f8800f7397956f",
            "637bc3d452b74ad58c0b8858c23896a1",
            "a80d7fc789cc414b86a0a4422e58290c",
            "a2c21c617e2c4433a73a085f0aedc08c",
            "f04b2a1e1c344b98b16b519c4ff1c321",
            "2cfdc117962f4f08b536ea4c693fe80a",
            "a9ea2f47a6ae483ba3029b3be6ce3852",
            "def0650f09694edf9d66262acce0a15c"
          ]
        },
        "cellView": "form",
        "outputId": "f65b4a3c-e63e-45d2-86b0-c6f1c8d0821e"
      },
      "source": [
        "#@title\n",
        "@interact(\n",
        "  r=2.2,\n",
        "  x_o=0.5,\n",
        "  n=100,\n",
        ")\n",
        "def f(r, x_o, n) -> None:\n",
        "  prob = lm.Marching(growth_rate=r, initial_value=x_o)\n",
        "  prob.solve(number_of_generations=n)\n",
        "  fig, ax, fig_prop = prob.plots()"
      ],
      "execution_count": 3,
      "outputs": [
        {
          "output_type": "display_data",
          "data": {
            "application/vnd.jupyter.widget-view+json": {
              "model_id": "896bf257520c4ee7800cd12efaaf8a07",
              "version_minor": 0,
              "version_major": 2
            },
            "text/plain": [
              "interactive(children=(FloatSlider(value=2.2, description='r', max=6.6000000000000005, min=-2.2), FloatSlider(v…"
            ]
          },
          "metadata": {
            "tags": []
          }
        }
      ]
    },
    {
      "cell_type": "markdown",
      "metadata": {
        "id": "A1AFI6EroxP0",
        "colab_type": "text"
      },
      "source": [
        "# Bifurcation diagram\n",
        "\n",
        "Get the equilibrium solution for logistic map equation"
      ]
    },
    {
      "cell_type": "code",
      "metadata": {
        "id": "Bp8A_ikmo42F",
        "colab_type": "code",
        "colab": {
          "base_uri": "https://localhost:8080/",
          "height": 299
        },
        "outputId": "772e1626-12c6-4c44-ea1e-d4746de092a2"
      },
      "source": [
        "lmap = lm.LogisticMap()\n",
        "bifurcate = lm.Bifurcation(map_obj=lmap)\n",
        "bifurcate.get_equilibrium_values(number_of_generations=95)"
      ],
      "execution_count": 6,
      "outputs": [
        {
          "output_type": "display_data",
          "data": {
            "image/png": "[encoded data removed]",
            "text/plain": [
              "<Figure size 432x288 with 1 Axes>"
            ]
          },
          "metadata": {
            "tags": []
          }
        }
      ]
    },
    {
      "cell_type": "code",
      "metadata": {
        "id": "zyshkD9uppcK",
        "colab_type": "code",
        "colab": {
          "base_uri": "https://localhost:8080/",
          "height": 295
        },
        "outputId": "d5e6ad98-3aa8-4d59-df9e-8e0999ec085f"
      },
      "source": [
        "fig, ax, fig_prop = bifurcate.plots()\n",
        "_ = ax.set_xlim([0, 4])\n",
        "_ = ax.set_ylim([0, 1])"
      ],
      "execution_count": 8,
      "outputs": [
        {
          "output_type": "display_data",
          "data": {
            "image/png": "[encoded data removed]",
            "text/plain": [
              "<Figure size 432x288 with 1 Axes>"
            ]
          },
          "metadata": {
            "tags": []
          }
        }
      ]
    }
  ]
}