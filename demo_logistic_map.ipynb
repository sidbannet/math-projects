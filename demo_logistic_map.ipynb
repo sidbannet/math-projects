{
  "nbformat": 4,
  "nbformat_minor": 0,
  "metadata": {
    "colab": {
      "name": "Interactive demonstration of logistic map equation",
      "provenance": [],
      "collapsed_sections": [],
      "toc_visible": true,
      "authorship_tag": "ABX9TyOiYEmKmpuW5UXT2Dx61Yje",
      "include_colab_link": true
    },
    "kernelspec": {
      "name": "python3",
      "display_name": "Python 3"
    },
    "widgets": {
      "application/vnd.jupyter.widget-state+json": {
        "bea2deff2f8140d081a66fa8e6e1658b": {
          "model_module": "@jupyter-widgets/controls",
          "model_name": "VBoxModel",
          "state": {
            "_view_name": "VBoxView",
            "_dom_classes": [
              "widget-interact"
            ],
            "_model_name": "VBoxModel",
            "_view_module": "@jupyter-widgets/controls",
            "_model_module_version": "1.5.0",
            "_view_count": null,
            "_view_module_version": "1.5.0",
            "box_style": "",
            "layout": "IPY_MODEL_7d027944499146f08bb099597b442b9b",
            "_model_module": "@jupyter-widgets/controls",
            "children": [
              "IPY_MODEL_6419f2607ac14fe997b679030937924c",
              "IPY_MODEL_a4db9149e4944d78a728635debb6589f",
              "IPY_MODEL_ed40071054d94dc68d87b98578b5c0b3",
              "IPY_MODEL_4264767e7e1d4c62a97f20bd787dde91"
            ]
          }
        },
        "7d027944499146f08bb099597b442b9b": {
          "model_module": "@jupyter-widgets/base",
          "model_name": "LayoutModel",
          "state": {
            "_view_name": "LayoutView",
            "grid_template_rows": null,
            "right": null,
            "justify_content": null,
            "_view_module": "@jupyter-widgets/base",
            "overflow": null,
            "_model_module_version": "1.2.0",
            "_view_count": null,
            "flex_flow": null,
            "width": null,
            "min_width": null,
            "border": null,
            "align_items": null,
            "bottom": null,
            "_model_module": "@jupyter-widgets/base",
            "top": null,
            "grid_column": null,
            "overflow_y": null,
            "overflow_x": null,
            "grid_auto_flow": null,
            "grid_area": null,
            "grid_template_columns": null,
            "flex": null,
            "_model_name": "LayoutModel",
            "justify_items": null,
            "grid_row": null,
            "max_height": null,
            "align_content": null,
            "visibility": null,
            "align_self": null,
            "height": null,
            "min_height": null,
            "padding": null,
            "grid_auto_rows": null,
            "grid_gap": null,
            "max_width": null,
            "order": null,
            "_view_module_version": "1.2.0",
            "grid_template_areas": null,
            "object_position": null,
            "object_fit": null,
            "grid_auto_columns": null,
            "margin": null,
            "display": null,
            "left": null
          }
        },
        "6419f2607ac14fe997b679030937924c": {
          "model_module": "@jupyter-widgets/controls",
          "model_name": "FloatSliderModel",
          "state": {
            "_view_name": "FloatSliderView",
            "style": "IPY_MODEL_8ed7972781364aa98279b841b3f90f71",
            "_dom_classes": [],
            "description": "r",
            "step": 0.1,
            "_model_name": "FloatSliderModel",
            "orientation": "horizontal",
            "max": 6.6000000000000005,
            "_view_module": "@jupyter-widgets/controls",
            "_model_module_version": "1.5.0",
            "value": 3,
            "_view_count": null,
            "disabled": false,
            "_view_module_version": "1.5.0",
            "min": -2.2,
            "continuous_update": true,
            "readout_format": ".2f",
            "description_tooltip": null,
            "readout": true,
            "_model_module": "@jupyter-widgets/controls",
            "layout": "IPY_MODEL_3edbb395d72b4ea390caad0b53aa1e13"
          }
        },
        "a4db9149e4944d78a728635debb6589f": {
          "model_module": "@jupyter-widgets/controls",
          "model_name": "FloatSliderModel",
          "state": {
            "_view_name": "FloatSliderView",
            "style": "IPY_MODEL_83d17881819e489aa58b97098f13029a",
            "_dom_classes": [],
            "description": "x_o",
            "step": 0.1,
            "_model_name": "FloatSliderModel",
            "orientation": "horizontal",
            "max": 1.5,
            "_view_module": "@jupyter-widgets/controls",
            "_model_module_version": "1.5.0",
            "value": 0.5,
            "_view_count": null,
            "disabled": false,
            "_view_module_version": "1.5.0",
            "min": -0.5,
            "continuous_update": true,
            "readout_format": ".2f",
            "description_tooltip": null,
            "readout": true,
            "_model_module": "@jupyter-widgets/controls",
            "layout": "IPY_MODEL_65b7752097b14556a338578827915066"
          }
        },
        "ed40071054d94dc68d87b98578b5c0b3": {
          "model_module": "@jupyter-widgets/controls",
          "model_name": "IntSliderModel",
          "state": {
            "_view_name": "IntSliderView",
            "style": "IPY_MODEL_21adfbd7928443bdbb85bc1f99ed4f25",
            "_dom_classes": [],
            "description": "n",
            "step": 1,
            "_model_name": "IntSliderModel",
            "orientation": "horizontal",
            "max": 300,
            "_view_module": "@jupyter-widgets/controls",
            "_model_module_version": "1.5.0",
            "value": 100,
            "_view_count": null,
            "disabled": false,
            "_view_module_version": "1.5.0",
            "min": -100,
            "continuous_update": true,
            "readout_format": "d",
            "description_tooltip": null,
            "readout": true,
            "_model_module": "@jupyter-widgets/controls",
            "layout": "IPY_MODEL_dc758d76452a40be8244150c97d38218"
          }
        },
        "4264767e7e1d4c62a97f20bd787dde91": {
          "model_module": "@jupyter-widgets/output",
          "model_name": "OutputModel",
          "state": {
            "_view_name": "OutputView",
            "msg_id": "",
            "_dom_classes": [],
            "_model_name": "OutputModel",
            "outputs": [
              {
                "output_type": "display_data",
                "metadata": {
                  "tags": []
                },
                "image/png": "iVBORw0KGgoAAAANSUhEUgAAAYoAAAEjCAYAAAAsbUY2AAAABHNCSVQICAgIfAhkiAAAAAlwSFlz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\nRK5CYII=\n",
                "text/plain": "<Figure size 432x288 with 2 Axes>"
              }
            ],
            "_view_module": "@jupyter-widgets/output",
            "_model_module_version": "1.0.0",
            "_view_count": null,
            "_view_module_version": "1.0.0",
            "layout": "IPY_MODEL_032a66f2d740481b817803d32f3b41d8",
            "_model_module": "@jupyter-widgets/output"
          }
        },
        "8ed7972781364aa98279b841b3f90f71": {
          "model_module": "@jupyter-widgets/controls",
          "model_name": "SliderStyleModel",
          "state": {
            "_view_name": "StyleView",
            "handle_color": null,
            "_model_name": "SliderStyleModel",
            "description_width": "",
            "_view_module": "@jupyter-widgets/base",
            "_model_module_version": "1.5.0",
            "_view_count": null,
            "_view_module_version": "1.2.0",
            "_model_module": "@jupyter-widgets/controls"
          }
        },
        "3edbb395d72b4ea390caad0b53aa1e13": {
          "model_module": "@jupyter-widgets/base",
          "model_name": "LayoutModel",
          "state": {
            "_view_name": "LayoutView",
            "grid_template_rows": null,
            "right": null,
            "justify_content": null,
            "_view_module": "@jupyter-widgets/base",
            "overflow": null,
            "_model_module_version": "1.2.0",
            "_view_count": null,
            "flex_flow": null,
            "width": null,
            "min_width": null,
            "border": null,
            "align_items": null,
            "bottom": null,
            "_model_module": "@jupyter-widgets/base",
            "top": null,
            "grid_column": null,
            "overflow_y": null,
            "overflow_x": null,
            "grid_auto_flow": null,
            "grid_area": null,
            "grid_template_columns": null,
            "flex": null,
            "_model_name": "LayoutModel",
            "justify_items": null,
            "grid_row": null,
            "max_height": null,
            "align_content": null,
            "visibility": null,
            "align_self": null,
            "height": null,
            "min_height": null,
            "padding": null,
            "grid_auto_rows": null,
            "grid_gap": null,
            "max_width": null,
            "order": null,
            "_view_module_version": "1.2.0",
            "grid_template_areas": null,
            "object_position": null,
            "object_fit": null,
            "grid_auto_columns": null,
            "margin": null,
            "display": null,
            "left": null
          }
        },
        "83d17881819e489aa58b97098f13029a": {
          "model_module": "@jupyter-widgets/controls",
          "model_name": "SliderStyleModel",
          "state": {
            "_view_name": "StyleView",
            "handle_color": null,
            "_model_name": "SliderStyleModel",
            "description_width": "",
            "_view_module": "@jupyter-widgets/base",
            "_model_module_version": "1.5.0",
            "_view_count": null,
            "_view_module_version": "1.2.0",
            "_model_module": "@jupyter-widgets/controls"
          }
        },
        "65b7752097b14556a338578827915066": {
          "model_module": "@jupyter-widgets/base",
          "model_name": "LayoutModel",
          "state": {
            "_view_name": "LayoutView",
            "grid_template_rows": null,
            "right": null,
            "justify_content": null,
            "_view_module": "@jupyter-widgets/base",
            "overflow": null,
            "_model_module_version": "1.2.0",
            "_view_count": null,
            "flex_flow": null,
            "width": null,
            "min_width": null,
            "border": null,
            "align_items": null,
            "bottom": null,
            "_model_module": "@jupyter-widgets/base",
            "top": null,
            "grid_column": null,
            "overflow_y": null,
            "overflow_x": null,
            "grid_auto_flow": null,
            "grid_area": null,
            "grid_template_columns": null,
            "flex": null,
            "_model_name": "LayoutModel",
            "justify_items": null,
            "grid_row": null,
            "max_height": null,
            "align_content": null,
            "visibility": null,
            "align_self": null,
            "height": null,
            "min_height": null,
            "padding": null,
            "grid_auto_rows": null,
            "grid_gap": null,
            "max_width": null,
            "order": null,
            "_view_module_version": "1.2.0",
            "grid_template_areas": null,
            "object_position": null,
            "object_fit": null,
            "grid_auto_columns": null,
            "margin": null,
            "display": null,
            "left": null
          }
        },
        "21adfbd7928443bdbb85bc1f99ed4f25": {
          "model_module": "@jupyter-widgets/controls",
          "model_name": "SliderStyleModel",
          "state": {
            "_view_name": "StyleView",
            "handle_color": null,
            "_model_name": "SliderStyleModel",
            "description_width": "",
            "_view_module": "@jupyter-widgets/base",
            "_model_module_version": "1.5.0",
            "_view_count": null,
            "_view_module_version": "1.2.0",
            "_model_module": "@jupyter-widgets/controls"
          }
        },
        "dc758d76452a40be8244150c97d38218": {
          "model_module": "@jupyter-widgets/base",
          "model_name": "LayoutModel",
          "state": {
            "_view_name": "LayoutView",
            "grid_template_rows": null,
            "right": null,
            "justify_content": null,
            "_view_module": "@jupyter-widgets/base",
            "overflow": null,
            "_model_module_version": "1.2.0",
            "_view_count": null,
            "flex_flow": null,
            "width": null,
            "min_width": null,
            "border": null,
            "align_items": null,
            "bottom": null,
            "_model_module": "@jupyter-widgets/base",
            "top": null,
            "grid_column": null,
            "overflow_y": null,
            "overflow_x": null,
            "grid_auto_flow": null,
            "grid_area": null,
            "grid_template_columns": null,
            "flex": null,
            "_model_name": "LayoutModel",
            "justify_items": null,
            "grid_row": null,
            "max_height": null,
            "align_content": null,
            "visibility": null,
            "align_self": null,
            "height": null,
            "min_height": null,
            "padding": null,
            "grid_auto_rows": null,
            "grid_gap": null,
            "max_width": null,
            "order": null,
            "_view_module_version": "1.2.0",
            "grid_template_areas": null,
            "object_position": null,
            "object_fit": null,
            "grid_auto_columns": null,
            "margin": null,
            "display": null,
            "left": null
          }
        }
      }
    }
  },
  "cells": [
    {
      "cell_type": "markdown",
      "metadata": {
        "id": "view-in-github",
        "colab_type": "text"
      },
      "source": [
        "<a href=\"https://colab.research.google.com/github/sidbannet/math-projects/blob/develop/demo_logistic_map.ipynb\" target=\"_parent\"><img src=\"https://colab.research.google.com/assets/colab-badge.svg\" alt=\"Open In Colab\"/></a>"
      ]
    },
    {
      "cell_type": "markdown",
      "metadata": {
        "id": "OQB0VQ1DkQOr",
        "colab_type": "text"
      },
      "source": [
        "# About logistic map equation\n",
        "\n",
        "**This code is a experimental code to produce logistic map equation in real plane**\n",
        "\n",
        "\n",
        "Inspired by logistic map equation. A nice [video](https://youtu.be/ovJcsL7vyrk) is a good way to get introduced to this equation.\n",
        "\n",
        "The simple equation is of this form:\n",
        "$$ x_{n+1} = r x_{n} (1 - x_{n}) $$\n",
        "Where, $ x_n $ is the nth generation of value x and x is real number between $[0, 1]$ and $ r $ is the growth rate which is a real number $ >0 $"
      ]
    },
    {
      "cell_type": "markdown",
      "metadata": {
        "id": "I5x_XKVjgNeU",
        "colab_type": "text"
      },
      "source": [
        "# Clone the git repo\n",
        "\n",
        "In this section we are\n",
        "\n",
        "*   Cloning git repository to demonstrate logistic map\n",
        "*   Get appropriate environment\n",
        "\n"
      ]
    },
    {
      "cell_type": "code",
      "metadata": {
        "id": "tmF8cVopTTJe",
        "colab_type": "code",
        "outputId": "b1b995eb-d0e3-476f-fb8f-61279b3d80c6",
        "cellView": "both",
        "colab": {
          "base_uri": "https://localhost:8080/",
          "height": 153
        }
      },
      "source": [
        "#@cloning\n",
        "!git clone https://github.com/sidbannet/math-projects.git\n",
        "%cd ./math-projects"
      ],
      "execution_count": 1,
      "outputs": [
        {
          "output_type": "stream",
          "text": [
            "Cloning into 'math-projects'...\n",
            "remote: Enumerating objects: 105, done.\u001b[K\n",
            "remote: Counting objects: 100% (105/105), done.\u001b[K\n",
            "remote: Compressing objects: 100% (80/80), done.\u001b[K\n",
            "remote: Total 105 (delta 44), reused 53 (delta 20), pack-reused 0\u001b[K\n",
            "Receiving objects: 100% (105/105), 156.18 KiB | 13.01 MiB/s, done.\n",
            "Resolving deltas: 100% (44/44), done.\n",
            "/content/math-projects\n"
          ],
          "name": "stdout"
        }
      ]
    },
    {
      "cell_type": "markdown",
      "metadata": {
        "id": "1ObDuvr8gopH",
        "colab_type": "text"
      },
      "source": [
        "# Load packages"
      ]
    },
    {
      "cell_type": "code",
      "metadata": {
        "id": "63VesCJLUJRu",
        "colab_type": "code",
        "colab": {}
      },
      "source": [
        "from mathlib import logistic_map as lm\n",
        "from ipywidgets import interact, interactive, fixed, interact_manual\n",
        "import ipywidgets as widgets"
      ],
      "execution_count": 0,
      "outputs": []
    },
    {
      "cell_type": "markdown",
      "metadata": {
        "id": "OXSzrnM5gysA",
        "colab_type": "text"
      },
      "source": [
        "# Solve for the logistic map\n",
        "\n",
        "Here initialize the logistic map in *{prob} = lm.Marching(growth_rate, initial_value)* with these following parameters:\n",
        "\n",
        "*   $r$ as **growth_rate**\n",
        "*   $x_0$ as **initial_value**\n",
        "\n",
        "Here, *{prob}* is object of class *lm*\n",
        "\n",
        "Then, solve and iterate the logistic map equation for $x_{n}$ till **number_of_generations** in *{prob}.solve*"
      ]
    },
    {
      "cell_type": "markdown",
      "metadata": {
        "id": "jyvYD0yzcRpL",
        "colab_type": "text"
      },
      "source": [
        "# Make plots\n",
        "\n",
        "Simply use *{prob}.plots()* to make plots"
      ]
    },
    {
      "cell_type": "markdown",
      "metadata": {
        "id": "Aw-6Fm9HcTUr",
        "colab_type": "text"
      },
      "source": [
        "# Interact with the logistic map equation\n",
        "\n",
        "Use the sliders to play with this equation and see how it's response changes with parameters $r$ and $x_0$"
      ]
    },
    {
      "cell_type": "code",
      "metadata": {
        "id": "Y1vCCxnSDF42",
        "colab_type": "code",
        "cellView": "form",
        "outputId": "fead5ada-1c89-41a7-e1c8-ab6bf09d0ea2",
        "colab": {
          "base_uri": "https://localhost:8080/",
          "height": 404,
          "referenced_widgets": [
            "bea2deff2f8140d081a66fa8e6e1658b",
            "7d027944499146f08bb099597b442b9b",
            "6419f2607ac14fe997b679030937924c",
            "a4db9149e4944d78a728635debb6589f",
            "ed40071054d94dc68d87b98578b5c0b3",
            "4264767e7e1d4c62a97f20bd787dde91",
            "8ed7972781364aa98279b841b3f90f71",
            "3edbb395d72b4ea390caad0b53aa1e13",
            "83d17881819e489aa58b97098f13029a",
            "65b7752097b14556a338578827915066",
            "21adfbd7928443bdbb85bc1f99ed4f25",
            "dc758d76452a40be8244150c97d38218"
          ]
        }
      },
      "source": [
        "#@title\n",
        "@interact(\n",
        "  r=2.2,\n",
        "  x_o=0.5,\n",
        "  n=100,\n",
        ")\n",
        "def f(r, x_o, n) -> None:\n",
        "  prob = lm.Marching(growth_rate=r, initial_value=x_o)\n",
        "  prob.solve(number_of_generations=n)\n",
        "  fig, ax, fig_prop = prob.plots()  "
      ],
      "execution_count": 3,
      "outputs": [
        {
          "output_type": "display_data",
          "data": {
            "application/vnd.jupyter.widget-view+json": {
              "model_id": "bea2deff2f8140d081a66fa8e6e1658b",
              "version_minor": 0,
              "version_major": 2
            },
            "text/plain": [
              "interactive(children=(FloatSlider(value=2.2, description='r', max=6.6000000000000005, min=-2.2), FloatSlider(v…"
            ]
          },
          "metadata": {
            "tags": []
          }
        }
      ]
    }
  ]
}