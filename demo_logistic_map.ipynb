{
  "nbformat": 4,
  "nbformat_minor": 0,
  "metadata": {
    "colab": {
      "name": "demo_logistic_map.ipynb",
      "provenance": [],
      "collapsed_sections": [],
      "toc_visible": true,
      "authorship_tag": "ABX9TyMmJCP7vOGm87EOG9E3Qdfb",
      "include_colab_link": true
    },
    "kernelspec": {
      "name": "python3",
      "display_name": "Python 3"
    }
  },
  "cells": [
    {
      "cell_type": "markdown",
      "metadata": {
        "id": "view-in-github",
        "colab_type": "text"
      },
      "source": [
        "<a href=\"https://colab.research.google.com/github/sidbannet/math-projects/blob/develop/demo_logistic_map.ipynb\" target=\"_parent\"><img src=\"https://colab.research.google.com/assets/colab-badge.svg\" alt=\"Open In Colab\"/></a>"
      ]
    },
    {
      "cell_type": "markdown",
      "metadata": {
        "id": "OQB0VQ1DkQOr",
        "colab_type": "text"
      },
      "source": [
        "# About logistic map equation\n",
        "\n",
        "**This code is a experimental code to produce logistic map equation in real plane**\n",
        "\n",
        "\n",
        "Inspired by logistic map equation. A nice [video](https://youtu.be/ovJcsL7vyrk) is a good way to get introduced to this equation.\n",
        "\n",
        "The simple equation is of this form:\n",
        "$$ x_{n+1} = r*x_{n}(1 - x_{n}) $$\n",
        "Where, $ x_n $ is the nth iteration of value x and x is real number between $[0, 1]$ and $ r $ is the growth rate which is a real number $ >0 $"
      ]
    },
    {
      "cell_type": "markdown",
      "metadata": {
        "id": "I5x_XKVjgNeU",
        "colab_type": "text"
      },
      "source": [
        "# Clone the git repo\n",
        "\n",
        "In this section we are\n",
        "\n",
        "*   Cloning git repository to demonstrate logistic map\n",
        "*   Get appropriate environment\n",
        "\n"
      ]
    },
    {
      "cell_type": "code",
      "metadata": {
        "id": "tmF8cVopTTJe",
        "colab_type": "code",
        "outputId": "69a151b3-61aa-47fa-c0f3-b65056efc5ce",
        "colab": {
          "base_uri": "https://localhost:8080/",
          "height": 136
        }
      },
      "source": [
        "!git clone https://github.com/sidbannet/math-projects.git\n",
        "%cd ./math-projects"
      ],
      "execution_count": 1,
      "outputs": [
        {
          "output_type": "stream",
          "text": [
            "Cloning into 'math-projects'...\n",
            "remote: Enumerating objects: 75, done.\u001b[K\n",
            "remote: Counting objects: 100% (75/75), done.\u001b[K\n",
            "remote: Compressing objects: 100% (60/60), done.\u001b[K\n",
            "remote: Total 75 (delta 28), reused 37 (delta 10), pack-reused 0\u001b[K\n",
            "Unpacking objects: 100% (75/75), done.\n",
            "/content/math-projects\n"
          ],
          "name": "stdout"
        }
      ]
    },
    {
      "cell_type": "markdown",
      "metadata": {
        "id": "1ObDuvr8gopH",
        "colab_type": "text"
      },
      "source": [
        "# Load packages"
      ]
    },
    {
      "cell_type": "code",
      "metadata": {
        "id": "63VesCJLUJRu",
        "colab_type": "code",
        "colab": {}
      },
      "source": [
        "from mathlib import logistic_map as lm"
      ],
      "execution_count": 0,
      "outputs": []
    },
    {
      "cell_type": "markdown",
      "metadata": {
        "id": "OXSzrnM5gysA",
        "colab_type": "text"
      },
      "source": [
        "# Solve for the logistic map\n",
        "\n",
        "Here initialize the logistic map in *{prob} = lm.Marching(growth_rate, initial_value)* with these following parameters:\n",
        "\n",
        "*   $r$ as **growth_rate**\n",
        "*   $x_0$ as **initial_value**\n",
        "\n",
        "Here, *{prob}* is object of class *lm*\n",
        "\n",
        "Then, solve and iterate the logistic map equation for $x_{n}$ till **number_of_iterations** in *{prob}.solve*"
      ]
    },
    {
      "cell_type": "code",
      "metadata": {
        "id": "KuDA-hfCkBxY",
        "colab_type": "code",
        "colab": {}
      },
      "source": [
        "# Initialize the problem\n",
        "prob = lm.Marching(growth_rate=2.8, initial_value=0.2)"
      ],
      "execution_count": 0,
      "outputs": []
    },
    {
      "cell_type": "code",
      "metadata": {
        "colab_type": "code",
        "id": "Lo-0qFJfqxeL",
        "colab": {}
      },
      "source": [
        "# Iterate and solve\n",
        "prob.solve(number_of_iterations=100)"
      ],
      "execution_count": 0,
      "outputs": []
    },
    {
      "cell_type": "markdown",
      "metadata": {
        "id": "QhtxdbVFh2rL",
        "colab_type": "text"
      },
      "source": [
        "# Make plots\n",
        "\n",
        "Simply use *{prob}.plots()* to make plots"
      ]
    },
    {
      "cell_type": "code",
      "metadata": {
        "id": "AT0aCcyEq6-s",
        "colab_type": "code",
        "outputId": "a06ffad6-5b70-43a8-c3b8-459ce472b15a",
        "colab": {
          "base_uri": "https://localhost:8080/",
          "height": 295
        }
      },
      "source": [
        "# Make plots\n",
        "fig, ax, fig_prop = prob.plots()"
      ],
      "execution_count": 5,
      "outputs": [
        {
          "output_type": "display_data",
          "data": {
            "image/png": "[encoded data removed]",
            "text/plain": [
              "<Figure size 432x288 with 1 Axes>"
            ]
          },
          "metadata": {
            "tags": []
          }
        }
      ]
    }
  ]
}