{
  "nbformat": 4,
  "nbformat_minor": 0,
  "metadata": {
    "colab": {
      "name": "Interactive demonstration of logistic map equation",
      "provenance": [],
      "collapsed_sections": [],
      "toc_visible": true,
      "authorship_tag": "ABX9TyPTm9eu1AaJ06JGNaVTqCXU",
      "include_colab_link": true
    },
    "kernelspec": {
      "name": "python3",
      "display_name": "Python 3"
    },
    "widgets": {
      "application/vnd.jupyter.widget-state+json": {
        "7830f590cc23474199d8a67f75260db0": {
          "model_module": "@jupyter-widgets/controls",
          "model_name": "VBoxModel",
          "state": {
            "_view_name": "VBoxView",
            "_dom_classes": [
              "widget-interact"
            ],
            "_model_name": "VBoxModel",
            "_view_module": "@jupyter-widgets/controls",
            "_model_module_version": "1.5.0",
            "_view_count": null,
            "_view_module_version": "1.5.0",
            "box_style": "",
            "layout": "IPY_MODEL_ffca6a4f92c4405caeea4342cc980be7",
            "_model_module": "@jupyter-widgets/controls",
            "children": [
              "IPY_MODEL_7328786e2d7d44678d9352519c6722d2",
              "IPY_MODEL_168a9c04d5aa4258b513980bf2a6617d",
              "IPY_MODEL_59a10dc8a7884d66a9d4d84512470cdf",
              "IPY_MODEL_d0933442e7854c24bc380f6626e9052a"
            ]
          }
        },
        "ffca6a4f92c4405caeea4342cc980be7": {
          "model_module": "@jupyter-widgets/base",
          "model_name": "LayoutModel",
          "state": {
            "_view_name": "LayoutView",
            "grid_template_rows": null,
            "right": null,
            "justify_content": null,
            "_view_module": "@jupyter-widgets/base",
            "overflow": null,
            "_model_module_version": "1.2.0",
            "_view_count": null,
            "flex_flow": null,
            "width": null,
            "min_width": null,
            "border": null,
            "align_items": null,
            "bottom": null,
            "_model_module": "@jupyter-widgets/base",
            "top": null,
            "grid_column": null,
            "overflow_y": null,
            "overflow_x": null,
            "grid_auto_flow": null,
            "grid_area": null,
            "grid_template_columns": null,
            "flex": null,
            "_model_name": "LayoutModel",
            "justify_items": null,
            "grid_row": null,
            "max_height": null,
            "align_content": null,
            "visibility": null,
            "align_self": null,
            "height": null,
            "min_height": null,
            "padding": null,
            "grid_auto_rows": null,
            "grid_gap": null,
            "max_width": null,
            "order": null,
            "_view_module_version": "1.2.0",
            "grid_template_areas": null,
            "object_position": null,
            "object_fit": null,
            "grid_auto_columns": null,
            "margin": null,
            "display": null,
            "left": null
          }
        },
        "7328786e2d7d44678d9352519c6722d2": {
          "model_module": "@jupyter-widgets/controls",
          "model_name": "FloatSliderModel",
          "state": {
            "_view_name": "FloatSliderView",
            "style": "IPY_MODEL_f1513a4684054ee6ac6bdeffffc9b308",
            "_dom_classes": [],
            "description": "r",
            "step": 0.1,
            "_model_name": "FloatSliderModel",
            "orientation": "horizontal",
            "max": 6.6000000000000005,
            "_view_module": "@jupyter-widgets/controls",
            "_model_module_version": "1.5.0",
            "value": 3.8,
            "_view_count": null,
            "disabled": false,
            "_view_module_version": "1.5.0",
            "min": -2.2,
            "continuous_update": true,
            "readout_format": ".2f",
            "description_tooltip": null,
            "readout": true,
            "_model_module": "@jupyter-widgets/controls",
            "layout": "IPY_MODEL_fca4d93a31294e91a661715f6122001c"
          }
        },
        "168a9c04d5aa4258b513980bf2a6617d": {
          "model_module": "@jupyter-widgets/controls",
          "model_name": "FloatSliderModel",
          "state": {
            "_view_name": "FloatSliderView",
            "style": "IPY_MODEL_a3c48bff89d743949ca0f7f2bb7ca62e",
            "_dom_classes": [],
            "description": "x_o",
            "step": 0.1,
            "_model_name": "FloatSliderModel",
            "orientation": "horizontal",
            "max": 1.5,
            "_view_module": "@jupyter-widgets/controls",
            "_model_module_version": "1.5.0",
            "value": 0.9,
            "_view_count": null,
            "disabled": false,
            "_view_module_version": "1.5.0",
            "min": -0.5,
            "continuous_update": true,
            "readout_format": ".2f",
            "description_tooltip": null,
            "readout": true,
            "_model_module": "@jupyter-widgets/controls",
            "layout": "IPY_MODEL_8ee19a5bfaa6418ca7cbd1acac5a172e"
          }
        },
        "59a10dc8a7884d66a9d4d84512470cdf": {
          "model_module": "@jupyter-widgets/controls",
          "model_name": "IntSliderModel",
          "state": {
            "_view_name": "IntSliderView",
            "style": "IPY_MODEL_44d984c9f3004a40a1b93c19a4939ca1",
            "_dom_classes": [],
            "description": "n",
            "step": 1,
            "_model_name": "IntSliderModel",
            "orientation": "horizontal",
            "max": 300,
            "_view_module": "@jupyter-widgets/controls",
            "_model_module_version": "1.5.0",
            "value": 129,
            "_view_count": null,
            "disabled": false,
            "_view_module_version": "1.5.0",
            "min": -100,
            "continuous_update": true,
            "readout_format": "d",
            "description_tooltip": null,
            "readout": true,
            "_model_module": "@jupyter-widgets/controls",
            "layout": "IPY_MODEL_59b41ab884c0484e873db1cc994fda24"
          }
        },
        "d0933442e7854c24bc380f6626e9052a": {
          "model_module": "@jupyter-widgets/output",
          "model_name": "OutputModel",
          "state": {
            "_view_name": "OutputView",
            "msg_id": "",
            "_dom_classes": [],
            "_model_name": "OutputModel",
            "outputs": [
              {
                "output_type": "display_data",
                "metadata": {
                  "tags": []
                },
                "image/png": "iVBORw0KGgoAAAANSUhEUgAAAYIAAAEWCAYAAABrDZDcAAAABHNCSVQICAgIfAhkiAAAAAlwSFlz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\nKw86bLVdqDkAAAAASUVORK5CYII=\n",
                "text/plain": "<Figure size 432x288 with 1 Axes>"
              }
            ],
            "_view_module": "@jupyter-widgets/output",
            "_model_module_version": "1.0.0",
            "_view_count": null,
            "_view_module_version": "1.0.0",
            "layout": "IPY_MODEL_040d0a3ce7e14d9a82591f715ae59158",
            "_model_module": "@jupyter-widgets/output"
          }
        },
        "f1513a4684054ee6ac6bdeffffc9b308": {
          "model_module": "@jupyter-widgets/controls",
          "model_name": "SliderStyleModel",
          "state": {
            "_view_name": "StyleView",
            "handle_color": null,
            "_model_name": "SliderStyleModel",
            "description_width": "",
            "_view_module": "@jupyter-widgets/base",
            "_model_module_version": "1.5.0",
            "_view_count": null,
            "_view_module_version": "1.2.0",
            "_model_module": "@jupyter-widgets/controls"
          }
        },
        "fca4d93a31294e91a661715f6122001c": {
          "model_module": "@jupyter-widgets/base",
          "model_name": "LayoutModel",
          "state": {
            "_view_name": "LayoutView",
            "grid_template_rows": null,
            "right": null,
            "justify_content": null,
            "_view_module": "@jupyter-widgets/base",
            "overflow": null,
            "_model_module_version": "1.2.0",
            "_view_count": null,
            "flex_flow": null,
            "width": null,
            "min_width": null,
            "border": null,
            "align_items": null,
            "bottom": null,
            "_model_module": "@jupyter-widgets/base",
            "top": null,
            "grid_column": null,
            "overflow_y": null,
            "overflow_x": null,
            "grid_auto_flow": null,
            "grid_area": null,
            "grid_template_columns": null,
            "flex": null,
            "_model_name": "LayoutModel",
            "justify_items": null,
            "grid_row": null,
            "max_height": null,
            "align_content": null,
            "visibility": null,
            "align_self": null,
            "height": null,
            "min_height": null,
            "padding": null,
            "grid_auto_rows": null,
            "grid_gap": null,
            "max_width": null,
            "order": null,
            "_view_module_version": "1.2.0",
            "grid_template_areas": null,
            "object_position": null,
            "object_fit": null,
            "grid_auto_columns": null,
            "margin": null,
            "display": null,
            "left": null
          }
        },
        "a3c48bff89d743949ca0f7f2bb7ca62e": {
          "model_module": "@jupyter-widgets/controls",
          "model_name": "SliderStyleModel",
          "state": {
            "_view_name": "StyleView",
            "handle_color": null,
            "_model_name": "SliderStyleModel",
            "description_width": "",
            "_view_module": "@jupyter-widgets/base",
            "_model_module_version": "1.5.0",
            "_view_count": null,
            "_view_module_version": "1.2.0",
            "_model_module": "@jupyter-widgets/controls"
          }
        },
        "8ee19a5bfaa6418ca7cbd1acac5a172e": {
          "model_module": "@jupyter-widgets/base",
          "model_name": "LayoutModel",
          "state": {
            "_view_name": "LayoutView",
            "grid_template_rows": null,
            "right": null,
            "justify_content": null,
            "_view_module": "@jupyter-widgets/base",
            "overflow": null,
            "_model_module_version": "1.2.0",
            "_view_count": null,
            "flex_flow": null,
            "width": null,
            "min_width": null,
            "border": null,
            "align_items": null,
            "bottom": null,
            "_model_module": "@jupyter-widgets/base",
            "top": null,
            "grid_column": null,
            "overflow_y": null,
            "overflow_x": null,
            "grid_auto_flow": null,
            "grid_area": null,
            "grid_template_columns": null,
            "flex": null,
            "_model_name": "LayoutModel",
            "justify_items": null,
            "grid_row": null,
            "max_height": null,
            "align_content": null,
            "visibility": null,
            "align_self": null,
            "height": null,
            "min_height": null,
            "padding": null,
            "grid_auto_rows": null,
            "grid_gap": null,
            "max_width": null,
            "order": null,
            "_view_module_version": "1.2.0",
            "grid_template_areas": null,
            "object_position": null,
            "object_fit": null,
            "grid_auto_columns": null,
            "margin": null,
            "display": null,
            "left": null
          }
        },
        "44d984c9f3004a40a1b93c19a4939ca1": {
          "model_module": "@jupyter-widgets/controls",
          "model_name": "SliderStyleModel",
          "state": {
            "_view_name": "StyleView",
            "handle_color": null,
            "_model_name": "SliderStyleModel",
            "description_width": "",
            "_view_module": "@jupyter-widgets/base",
            "_model_module_version": "1.5.0",
            "_view_count": null,
            "_view_module_version": "1.2.0",
            "_model_module": "@jupyter-widgets/controls"
          }
        },
        "59b41ab884c0484e873db1cc994fda24": {
          "model_module": "@jupyter-widgets/base",
          "model_name": "LayoutModel",
          "state": {
            "_view_name": "LayoutView",
            "grid_template_rows": null,
            "right": null,
            "justify_content": null,
            "_view_module": "@jupyter-widgets/base",
            "overflow": null,
            "_model_module_version": "1.2.0",
            "_view_count": null,
            "flex_flow": null,
            "width": null,
            "min_width": null,
            "border": null,
            "align_items": null,
            "bottom": null,
            "_model_module": "@jupyter-widgets/base",
            "top": null,
            "grid_column": null,
            "overflow_y": null,
            "overflow_x": null,
            "grid_auto_flow": null,
            "grid_area": null,
            "grid_template_columns": null,
            "flex": null,
            "_model_name": "LayoutModel",
            "justify_items": null,
            "grid_row": null,
            "max_height": null,
            "align_content": null,
            "visibility": null,
            "align_self": null,
            "height": null,
            "min_height": null,
            "padding": null,
            "grid_auto_rows": null,
            "grid_gap": null,
            "max_width": null,
            "order": null,
            "_view_module_version": "1.2.0",
            "grid_template_areas": null,
            "object_position": null,
            "object_fit": null,
            "grid_auto_columns": null,
            "margin": null,
            "display": null,
            "left": null
          }
        }
      }
    }
  },
  "cells": [
    {
      "cell_type": "markdown",
      "metadata": {
        "id": "view-in-github",
        "colab_type": "text"
      },
      "source": [
        "<a href=\"https://colab.research.google.com/github/sidbannet/math-projects/blob/develop/demo_logistic_map.ipynb\" target=\"_parent\"><img src=\"https://colab.research.google.com/assets/colab-badge.svg\" alt=\"Open In Colab\"/></a>"
      ]
    },
    {
      "cell_type": "markdown",
      "metadata": {
        "id": "OQB0VQ1DkQOr",
        "colab_type": "text"
      },
      "source": [
        "# About logistic map equation\n",
        "\n",
        "**This code is a experimental code to produce logistic map equation in real plane**\n",
        "\n",
        "\n",
        "Inspired by logistic map equation. A nice [video](https://youtu.be/ovJcsL7vyrk) is a good way to get introduced to this equation.\n",
        "\n",
        "The simple equation is of this form:\n",
        "$$ x_{n+1} = r x_{n} (1 - x_{n}) $$\n",
        "Where, $ x_n $ is the nth iteration of value x and x is real number between $[0, 1]$ and $ r $ is the growth rate which is a real number $ >0 $"
      ]
    },
    {
      "cell_type": "markdown",
      "metadata": {
        "id": "I5x_XKVjgNeU",
        "colab_type": "text"
      },
      "source": [
        "# Clone the git repo\n",
        "\n",
        "In this section we are\n",
        "\n",
        "*   Cloning git repository to demonstrate logistic map\n",
        "*   Get appropriate environment\n",
        "\n"
      ]
    },
    {
      "cell_type": "code",
      "metadata": {
        "id": "tmF8cVopTTJe",
        "colab_type": "code",
        "outputId": "c65255f3-af64-47a3-dfe8-df01344e24b9",
        "cellView": "both",
        "colab": {
          "base_uri": "https://localhost:8080/",
          "height": 136
        }
      },
      "source": [
        "#@cloning\n",
        "!git clone https://github.com/sidbannet/math-projects.git\n",
        "%cd ./math-projects"
      ],
      "execution_count": 2,
      "outputs": [
        {
          "output_type": "stream",
          "text": [
            "Cloning into 'math-projects'...\n",
            "remote: Enumerating objects: 84, done.\u001b[K\n",
            "remote: Counting objects: 100% (84/84), done.\u001b[K\n",
            "remote: Compressing objects: 100% (69/69), done.\u001b[K\n",
            "remote: Total 84 (delta 31), reused 36 (delta 10), pack-reused 0\u001b[K\n",
            "Unpacking objects: 100% (84/84), done.\n",
            "/content/math-projects\n"
          ],
          "name": "stdout"
        }
      ]
    },
    {
      "cell_type": "markdown",
      "metadata": {
        "id": "1ObDuvr8gopH",
        "colab_type": "text"
      },
      "source": [
        "# Load packages"
      ]
    },
    {
      "cell_type": "code",
      "metadata": {
        "id": "63VesCJLUJRu",
        "colab_type": "code",
        "colab": {}
      },
      "source": [
        "from mathlib import logistic_map as lm\n",
        "from ipywidgets import interact, interactive, fixed, interact_manual\n",
        "import ipywidgets as widgets"
      ],
      "execution_count": 0,
      "outputs": []
    },
    {
      "cell_type": "markdown",
      "metadata": {
        "id": "OXSzrnM5gysA",
        "colab_type": "text"
      },
      "source": [
        "# Solve for the logistic map\n",
        "\n",
        "Here initialize the logistic map in *{prob} = lm.Marching(growth_rate, initial_value)* with these following parameters:\n",
        "\n",
        "*   $r$ as **growth_rate**\n",
        "*   $x_0$ as **initial_value**\n",
        "\n",
        "Here, *{prob}* is object of class *lm*\n",
        "\n",
        "Then, solve and iterate the logistic map equation for $x_{n}$ till **number_of_iterations** in *{prob}.solve*"
      ]
    },
    {
      "cell_type": "markdown",
      "metadata": {
        "id": "jyvYD0yzcRpL",
        "colab_type": "text"
      },
      "source": [
        "# Make plots\n",
        "\n",
        "Simply use *{prob}.plots()* to make plots"
      ]
    },
    {
      "cell_type": "markdown",
      "metadata": {
        "id": "Aw-6Fm9HcTUr",
        "colab_type": "text"
      },
      "source": [
        "# Interact with the logistic map equation\n",
        "\n",
        "Use the sliders to play with this equation and see how it's response changes with parameters $r$ and $x_0$"
      ]
    },
    {
      "cell_type": "code",
      "metadata": {
        "id": "Y1vCCxnSDF42",
        "colab_type": "code",
        "cellView": "form",
        "outputId": "8c3ab14f-0266-4195-bb22-c4420821bc8b",
        "colab": {
          "base_uri": "https://localhost:8080/",
          "height": 391,
          "referenced_widgets": [
            "7830f590cc23474199d8a67f75260db0",
            "ffca6a4f92c4405caeea4342cc980be7",
            "7328786e2d7d44678d9352519c6722d2",
            "168a9c04d5aa4258b513980bf2a6617d",
            "59a10dc8a7884d66a9d4d84512470cdf",
            "d0933442e7854c24bc380f6626e9052a",
            "f1513a4684054ee6ac6bdeffffc9b308",
            "fca4d93a31294e91a661715f6122001c",
            "a3c48bff89d743949ca0f7f2bb7ca62e",
            "8ee19a5bfaa6418ca7cbd1acac5a172e",
            "44d984c9f3004a40a1b93c19a4939ca1",
            "59b41ab884c0484e873db1cc994fda24"
          ]
        }
      },
      "source": [
        "#@title\n",
        "@interact(\n",
        "  r=2.2,\n",
        "  x_o=0.5,\n",
        "  n=100,\n",
        ")\n",
        "def f(r, x_o, n) -> None:\n",
        "  prob = lm.Marching(growth_rate=r, initial_value=x_o)\n",
        "  prob.solve(number_of_iterations=n)\n",
        "  fig, ax, fig_prop = prob.plots()  "
      ],
      "execution_count": 4,
      "outputs": [
        {
          "output_type": "display_data",
          "data": {
            "application/vnd.jupyter.widget-view+json": {
              "model_id": "7830f590cc23474199d8a67f75260db0",
              "version_minor": 0,
              "version_major": 2
            },
            "text/plain": [
              "interactive(children=(FloatSlider(value=2.2, description='r', max=6.6000000000000005, min=-2.2), FloatSlider(v…"
            ]
          },
          "metadata": {
            "tags": []
          }
        }
      ]
    }
  ]
}