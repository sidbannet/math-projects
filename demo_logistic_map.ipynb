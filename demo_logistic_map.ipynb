{
  "nbformat": 4,
  "nbformat_minor": 0,
  "metadata": {
    "colab": {
      "name": "Copy of demo_logistic_map.ipynb",
      "provenance": [],
      "collapsed_sections": [],
      "toc_visible": true,
      "authorship_tag": "ABX9TyPTm9eu1AaJ06JGNaVTqCXU",
      "include_colab_link": true
    },
    "kernelspec": {
      "name": "python3",
      "display_name": "Python 3"
    },
    "widgets": {
      "application/vnd.jupyter.widget-state+json": {
        "116fb8af2c5242dcb9b06266001bef06": {
          "model_module": "@jupyter-widgets/controls",
          "model_name": "VBoxModel",
          "state": {
            "_view_name": "VBoxView",
            "_dom_classes": [
              "widget-interact"
            ],
            "_model_name": "VBoxModel",
            "_view_module": "@jupyter-widgets/controls",
            "_model_module_version": "1.5.0",
            "_view_count": null,
            "_view_module_version": "1.5.0",
            "box_style": "",
            "layout": "IPY_MODEL_956966f608ba486aa924fa6ebcc88242",
            "_model_module": "@jupyter-widgets/controls",
            "children": [
              "IPY_MODEL_fdc85a0050af4cd1bf235c906ba420b7",
              "IPY_MODEL_db28b70d266047e2a25f4942664b58a8",
              "IPY_MODEL_57324b5d544e4c1f86a5cd61b2af26bb",
              "IPY_MODEL_172871589c91483c83154f5cd4144b13"
            ]
          }
        },
        "956966f608ba486aa924fa6ebcc88242": {
          "model_module": "@jupyter-widgets/base",
          "model_name": "LayoutModel",
          "state": {
            "_view_name": "LayoutView",
            "grid_template_rows": null,
            "right": null,
            "justify_content": null,
            "_view_module": "@jupyter-widgets/base",
            "overflow": null,
            "_model_module_version": "1.2.0",
            "_view_count": null,
            "flex_flow": null,
            "width": null,
            "min_width": null,
            "border": null,
            "align_items": null,
            "bottom": null,
            "_model_module": "@jupyter-widgets/base",
            "top": null,
            "grid_column": null,
            "overflow_y": null,
            "overflow_x": null,
            "grid_auto_flow": null,
            "grid_area": null,
            "grid_template_columns": null,
            "flex": null,
            "_model_name": "LayoutModel",
            "justify_items": null,
            "grid_row": null,
            "max_height": null,
            "align_content": null,
            "visibility": null,
            "align_self": null,
            "height": null,
            "min_height": null,
            "padding": null,
            "grid_auto_rows": null,
            "grid_gap": null,
            "max_width": null,
            "order": null,
            "_view_module_version": "1.2.0",
            "grid_template_areas": null,
            "object_position": null,
            "object_fit": null,
            "grid_auto_columns": null,
            "margin": null,
            "display": null,
            "left": null
          }
        },
        "fdc85a0050af4cd1bf235c906ba420b7": {
          "model_module": "@jupyter-widgets/controls",
          "model_name": "FloatSliderModel",
          "state": {
            "_view_name": "FloatSliderView",
            "style": "IPY_MODEL_6e23987136c34b08999d09c950b509d3",
            "_dom_classes": [],
            "description": "r",
            "step": 0.1,
            "_model_name": "FloatSliderModel",
            "orientation": "horizontal",
            "max": 6.6000000000000005,
            "_view_module": "@jupyter-widgets/controls",
            "_model_module_version": "1.5.0",
            "value": 3.6,
            "_view_count": null,
            "disabled": false,
            "_view_module_version": "1.5.0",
            "min": -2.2,
            "continuous_update": true,
            "readout_format": ".2f",
            "description_tooltip": null,
            "readout": true,
            "_model_module": "@jupyter-widgets/controls",
            "layout": "IPY_MODEL_b5373dc3753c48d8994f4cf4ff5a2843"
          }
        },
        "db28b70d266047e2a25f4942664b58a8": {
          "model_module": "@jupyter-widgets/controls",
          "model_name": "FloatSliderModel",
          "state": {
            "_view_name": "FloatSliderView",
            "style": "IPY_MODEL_d91161627a694075a62881f499e39508",
            "_dom_classes": [],
            "description": "x_o",
            "step": 0.1,
            "_model_name": "FloatSliderModel",
            "orientation": "horizontal",
            "max": 1.5,
            "_view_module": "@jupyter-widgets/controls",
            "_model_module_version": "1.5.0",
            "value": 0.1,
            "_view_count": null,
            "disabled": false,
            "_view_module_version": "1.5.0",
            "min": -0.5,
            "continuous_update": true,
            "readout_format": ".2f",
            "description_tooltip": null,
            "readout": true,
            "_model_module": "@jupyter-widgets/controls",
            "layout": "IPY_MODEL_8a3ffe9625cf4ab19b15e9ffb43539a6"
          }
        },
        "57324b5d544e4c1f86a5cd61b2af26bb": {
          "model_module": "@jupyter-widgets/controls",
          "model_name": "IntSliderModel",
          "state": {
            "_view_name": "IntSliderView",
            "style": "IPY_MODEL_3148a001677d417db9b153de29e7446a",
            "_dom_classes": [],
            "description": "n",
            "step": 1,
            "_model_name": "IntSliderModel",
            "orientation": "horizontal",
            "max": 300,
            "_view_module": "@jupyter-widgets/controls",
            "_model_module_version": "1.5.0",
            "value": 97,
            "_view_count": null,
            "disabled": false,
            "_view_module_version": "1.5.0",
            "min": -100,
            "continuous_update": true,
            "readout_format": "d",
            "description_tooltip": null,
            "readout": true,
            "_model_module": "@jupyter-widgets/controls",
            "layout": "IPY_MODEL_b4772d85b3fa4282a47201e4d0469f46"
          }
        },
        "172871589c91483c83154f5cd4144b13": {
          "model_module": "@jupyter-widgets/output",
          "model_name": "OutputModel",
          "state": {
            "_view_name": "OutputView",
            "msg_id": "",
            "_dom_classes": [],
            "_model_name": "OutputModel",
            "outputs": [
              {
                "output_type": "display_data",
                "metadata": {
                  "tags": []
                },
                "image/png": "iVBORw0KGgoAAAANSUhEUgAAAYUAAAEWCAYAAACJ0YulAAAABHNCSVQICAgIfAhkiAAAAAlwSFlz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\nRU5ErkJggg==\n",
                "text/plain": "<Figure size 432x288 with 1 Axes>"
              }
            ],
            "_view_module": "@jupyter-widgets/output",
            "_model_module_version": "1.0.0",
            "_view_count": null,
            "_view_module_version": "1.0.0",
            "layout": "IPY_MODEL_591d25a58da646fea8f4b9c697ab0c74",
            "_model_module": "@jupyter-widgets/output"
          }
        },
        "6e23987136c34b08999d09c950b509d3": {
          "model_module": "@jupyter-widgets/controls",
          "model_name": "SliderStyleModel",
          "state": {
            "_view_name": "StyleView",
            "handle_color": null,
            "_model_name": "SliderStyleModel",
            "description_width": "",
            "_view_module": "@jupyter-widgets/base",
            "_model_module_version": "1.5.0",
            "_view_count": null,
            "_view_module_version": "1.2.0",
            "_model_module": "@jupyter-widgets/controls"
          }
        },
        "b5373dc3753c48d8994f4cf4ff5a2843": {
          "model_module": "@jupyter-widgets/base",
          "model_name": "LayoutModel",
          "state": {
            "_view_name": "LayoutView",
            "grid_template_rows": null,
            "right": null,
            "justify_content": null,
            "_view_module": "@jupyter-widgets/base",
            "overflow": null,
            "_model_module_version": "1.2.0",
            "_view_count": null,
            "flex_flow": null,
            "width": null,
            "min_width": null,
            "border": null,
            "align_items": null,
            "bottom": null,
            "_model_module": "@jupyter-widgets/base",
            "top": null,
            "grid_column": null,
            "overflow_y": null,
            "overflow_x": null,
            "grid_auto_flow": null,
            "grid_area": null,
            "grid_template_columns": null,
            "flex": null,
            "_model_name": "LayoutModel",
            "justify_items": null,
            "grid_row": null,
            "max_height": null,
            "align_content": null,
            "visibility": null,
            "align_self": null,
            "height": null,
            "min_height": null,
            "padding": null,
            "grid_auto_rows": null,
            "grid_gap": null,
            "max_width": null,
            "order": null,
            "_view_module_version": "1.2.0",
            "grid_template_areas": null,
            "object_position": null,
            "object_fit": null,
            "grid_auto_columns": null,
            "margin": null,
            "display": null,
            "left": null
          }
        },
        "d91161627a694075a62881f499e39508": {
          "model_module": "@jupyter-widgets/controls",
          "model_name": "SliderStyleModel",
          "state": {
            "_view_name": "StyleView",
            "handle_color": null,
            "_model_name": "SliderStyleModel",
            "description_width": "",
            "_view_module": "@jupyter-widgets/base",
            "_model_module_version": "1.5.0",
            "_view_count": null,
            "_view_module_version": "1.2.0",
            "_model_module": "@jupyter-widgets/controls"
          }
        },
        "8a3ffe9625cf4ab19b15e9ffb43539a6": {
          "model_module": "@jupyter-widgets/base",
          "model_name": "LayoutModel",
          "state": {
            "_view_name": "LayoutView",
            "grid_template_rows": null,
            "right": null,
            "justify_content": null,
            "_view_module": "@jupyter-widgets/base",
            "overflow": null,
            "_model_module_version": "1.2.0",
            "_view_count": null,
            "flex_flow": null,
            "width": null,
            "min_width": null,
            "border": null,
            "align_items": null,
            "bottom": null,
            "_model_module": "@jupyter-widgets/base",
            "top": null,
            "grid_column": null,
            "overflow_y": null,
            "overflow_x": null,
            "grid_auto_flow": null,
            "grid_area": null,
            "grid_template_columns": null,
            "flex": null,
            "_model_name": "LayoutModel",
            "justify_items": null,
            "grid_row": null,
            "max_height": null,
            "align_content": null,
            "visibility": null,
            "align_self": null,
            "height": null,
            "min_height": null,
            "padding": null,
            "grid_auto_rows": null,
            "grid_gap": null,
            "max_width": null,
            "order": null,
            "_view_module_version": "1.2.0",
            "grid_template_areas": null,
            "object_position": null,
            "object_fit": null,
            "grid_auto_columns": null,
            "margin": null,
            "display": null,
            "left": null
          }
        },
        "3148a001677d417db9b153de29e7446a": {
          "model_module": "@jupyter-widgets/controls",
          "model_name": "SliderStyleModel",
          "state": {
            "_view_name": "StyleView",
            "handle_color": null,
            "_model_name": "SliderStyleModel",
            "description_width": "",
            "_view_module": "@jupyter-widgets/base",
            "_model_module_version": "1.5.0",
            "_view_count": null,
            "_view_module_version": "1.2.0",
            "_model_module": "@jupyter-widgets/controls"
          }
        },
        "b4772d85b3fa4282a47201e4d0469f46": {
          "model_module": "@jupyter-widgets/base",
          "model_name": "LayoutModel",
          "state": {
            "_view_name": "LayoutView",
            "grid_template_rows": null,
            "right": null,
            "justify_content": null,
            "_view_module": "@jupyter-widgets/base",
            "overflow": null,
            "_model_module_version": "1.2.0",
            "_view_count": null,
            "flex_flow": null,
            "width": null,
            "min_width": null,
            "border": null,
            "align_items": null,
            "bottom": null,
            "_model_module": "@jupyter-widgets/base",
            "top": null,
            "grid_column": null,
            "overflow_y": null,
            "overflow_x": null,
            "grid_auto_flow": null,
            "grid_area": null,
            "grid_template_columns": null,
            "flex": null,
            "_model_name": "LayoutModel",
            "justify_items": null,
            "grid_row": null,
            "max_height": null,
            "align_content": null,
            "visibility": null,
            "align_self": null,
            "height": null,
            "min_height": null,
            "padding": null,
            "grid_auto_rows": null,
            "grid_gap": null,
            "max_width": null,
            "order": null,
            "_view_module_version": "1.2.0",
            "grid_template_areas": null,
            "object_position": null,
            "object_fit": null,
            "grid_auto_columns": null,
            "margin": null,
            "display": null,
            "left": null
          }
        }
      }
    }
  },
  "cells": [
    {
      "cell_type": "markdown",
      "metadata": {
        "id": "view-in-github",
        "colab_type": "text"
      },
      "source": [
        "<a href=\"https://colab.research.google.com/github/sidbannet/math-projects/blob/develop/demo_logistic_map.ipynb\" target=\"_parent\"><img src=\"https://colab.research.google.com/assets/colab-badge.svg\" alt=\"Open In Colab\"/></a>"
      ]
    },
    {
      "cell_type": "markdown",
      "metadata": {
        "id": "OQB0VQ1DkQOr",
        "colab_type": "text"
      },
      "source": [
        "# About logistic map equation\n",
        "\n",
        "**This code is a experimental code to produce logistic map equation in real plane**\n",
        "\n",
        "\n",
        "Inspired by logistic map equation. A nice [video](https://youtu.be/ovJcsL7vyrk) is a good way to get introduced to this equation.\n",
        "\n",
        "The simple equation is of this form:\n",
        "$$ x_{n+1} = r x_{n} (1 - x_{n}) $$\n",
        "Where, $ x_n $ is the nth iteration of value x and x is real number between $[0, 1]$ and $ r $ is the growth rate which is a real number $ >0 $"
      ]
    },
    {
      "cell_type": "markdown",
      "metadata": {
        "id": "I5x_XKVjgNeU",
        "colab_type": "text"
      },
      "source": [
        "# Clone the git repo\n",
        "\n",
        "In this section we are\n",
        "\n",
        "*   Cloning git repository to demonstrate logistic map\n",
        "*   Get appropriate environment\n",
        "\n"
      ]
    },
    {
      "cell_type": "code",
      "metadata": {
        "id": "tmF8cVopTTJe",
        "colab_type": "code",
        "outputId": "df904127-4bac-4813-d3e8-e67d6355100a",
        "cellView": "both",
        "colab": {
          "base_uri": "https://localhost:8080/",
          "height": 136
        }
      },
      "source": [
        "#@cloning\n",
        "!git clone https://github.com/sidbannet/math-projects.git\n",
        "%cd ./math-projects"
      ],
      "execution_count": 1,
      "outputs": [
        {
          "output_type": "stream",
          "text": [
            "Cloning into 'math-projects'...\n",
            "remote: Enumerating objects: 81, done.\u001b[K\n",
            "remote: Counting objects: 100% (81/81), done.\u001b[K\n",
            "remote: Compressing objects: 100% (66/66), done.\u001b[K\n",
            "remote: Total 81 (delta 30), reused 36 (delta 10), pack-reused 0\u001b[K\n",
            "Unpacking objects: 100% (81/81), done.\n",
            "/content/math-projects\n"
          ],
          "name": "stdout"
        }
      ]
    },
    {
      "cell_type": "markdown",
      "metadata": {
        "id": "1ObDuvr8gopH",
        "colab_type": "text"
      },
      "source": [
        "# Load packages"
      ]
    },
    {
      "cell_type": "code",
      "metadata": {
        "id": "63VesCJLUJRu",
        "colab_type": "code",
        "colab": {}
      },
      "source": [
        "from mathlib import logistic_map as lm\n",
        "from ipywidgets import interact, interactive, fixed, interact_manual\n",
        "import ipywidgets as widgets"
      ],
      "execution_count": 0,
      "outputs": []
    },
    {
      "cell_type": "markdown",
      "metadata": {
        "id": "OXSzrnM5gysA",
        "colab_type": "text"
      },
      "source": [
        "# Solve for the logistic map\n",
        "\n",
        "Here initialize the logistic map in *{prob} = lm.Marching(growth_rate, initial_value)* with these following parameters:\n",
        "\n",
        "*   $r$ as **growth_rate**\n",
        "*   $x_0$ as **initial_value**\n",
        "\n",
        "Here, *{prob}* is object of class *lm*\n",
        "\n",
        "Then, solve and iterate the logistic map equation for $x_{n}$ till **number_of_iterations** in *{prob}.solve*"
      ]
    },
    {
      "cell_type": "markdown",
      "metadata": {
        "id": "jyvYD0yzcRpL",
        "colab_type": "text"
      },
      "source": [
        "# Make plots\n",
        "\n",
        "Simply use *{prob}.plots()* to make plots"
      ]
    },
    {
      "cell_type": "markdown",
      "metadata": {
        "id": "Aw-6Fm9HcTUr",
        "colab_type": "text"
      },
      "source": [
        "# Interact with the logistic map equation\n",
        "\n",
        "Use the sliders to play with this equation and see how it's response changes with parameters $r$ and $x_0$"
      ]
    },
    {
      "cell_type": "code",
      "metadata": {
        "id": "Y1vCCxnSDF42",
        "colab_type": "code",
        "cellView": "form",
        "outputId": "b5101a10-dfba-4c49-fe63-6153a5fb0d4f",
        "colab": {
          "base_uri": "https://localhost:8080/",
          "height": 391,
          "referenced_widgets": [
            "116fb8af2c5242dcb9b06266001bef06",
            "956966f608ba486aa924fa6ebcc88242",
            "fdc85a0050af4cd1bf235c906ba420b7",
            "db28b70d266047e2a25f4942664b58a8",
            "57324b5d544e4c1f86a5cd61b2af26bb",
            "172871589c91483c83154f5cd4144b13",
            "6e23987136c34b08999d09c950b509d3",
            "b5373dc3753c48d8994f4cf4ff5a2843",
            "d91161627a694075a62881f499e39508",
            "8a3ffe9625cf4ab19b15e9ffb43539a6",
            "3148a001677d417db9b153de29e7446a",
            "b4772d85b3fa4282a47201e4d0469f46"
          ]
        }
      },
      "source": [
        "#@title\n",
        "@interact(\n",
        "  r=2.2,\n",
        "  x_o=0.5,\n",
        "  n=100,\n",
        ")\n",
        "def f(r, x_o, n) -> None:\n",
        "  prob = lm.Marching(growth_rate=r, initial_value=x_o)\n",
        "  prob.solve(number_of_iterations=n)\n",
        "  fig, ax, fig_prop = prob.plots()  "
      ],
      "execution_count": 3,
      "outputs": [
        {
          "output_type": "display_data",
          "data": {
            "application/vnd.jupyter.widget-view+json": {
              "model_id": "116fb8af2c5242dcb9b06266001bef06",
              "version_minor": 0,
              "version_major": 2
            },
            "text/plain": [
              "interactive(children=(FloatSlider(value=2.2, description='r', max=6.6000000000000005, min=-2.2), FloatSlider(v…"
            ]
          },
          "metadata": {
            "tags": []
          }
        }
      ]
    }
  ]
}