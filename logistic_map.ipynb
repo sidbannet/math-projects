{
  "nbformat": 4,
  "nbformat_minor": 0,
  "metadata": {
    "colab": {
      "name": "logistic_map.ipynb",
      "provenance": [],
      "toc_visible": true,
      "authorship_tag": "ABX9TyP66wM+R2T2ahJYm/etKObo",
      "include_colab_link": true
    },
    "kernelspec": {
      "name": "python3",
      "display_name": "Python 3"
    }
  },
  "cells": [
    {
      "cell_type": "markdown",
      "metadata": {
        "id": "view-in-github",
        "colab_type": "text"
      },
      "source": [
        "<a href=\"https://colab.research.google.com/github/sidbannet/math-projects/blob/develop/logistic_map.ipynb\" target=\"_parent\"><img src=\"https://colab.research.google.com/assets/colab-badge.svg\" alt=\"Open In Colab\"/></a>"
      ]
    },
    {
      "cell_type": "markdown",
      "metadata": {
        "id": "OQB0VQ1DkQOr",
        "colab_type": "text"
      },
      "source": [
        "**This code is a experimental code to produce logistic map equation in real plane**\n",
        "\n",
        "\n",
        "Inspired by logistic map equation. A nice [video](https://youtu.be/ovJcsL7vyrk) is a good way to get introduced to this equation."
      ]
    },
    {
      "cell_type": "markdown",
      "metadata": {
        "id": "wC87C3qKyaLu",
        "colab_type": "text"
      },
      "source": [
        "The simple equation is actually of this form:\n",
        "$$ x_{n+1} = r*x_{n}(1 - x_{n}) $$\n",
        "Where, $$ x_n $$ is the nth iteration of value x and x is real number between [0, 1]"
      ]
    },
    {
      "cell_type": "code",
      "metadata": {
        "id": "63VesCJLUJRu",
        "colab_type": "code",
        "colab": {}
      },
      "source": [
        "# Load python packages\n",
        "\n",
        "import numpy as np\n",
        "import matplotlib.pyplot as plt\n",
        "import matplotlib.widgets as mwidgets"
      ],
      "execution_count": 0,
      "outputs": []
    },
    {
      "cell_type": "code",
      "metadata": {
        "id": "KuDA-hfCkBxY",
        "colab_type": "code",
        "colab": {}
      },
      "source": [
        "# Initialize the problem\n",
        "\n",
        "x_initial = 0.1   # A real number between [0, 1]\n",
        "r = 2.2           # A positive real growth rate number\n"
      ],
      "execution_count": 0,
      "outputs": []
    },
    {
      "cell_type": "code",
      "metadata": {
        "colab_type": "code",
        "id": "Lo-0qFJfqxeL",
        "colab": {}
      },
      "source": [
        "# Setup the numerical schema\n",
        "\n",
        "n_equib = 100      # Number of iteration to reach equilibrim"
      ],
      "execution_count": 0,
      "outputs": []
    },
    {
      "cell_type": "code",
      "metadata": {
        "id": "IDWQAosQlG_N",
        "colab_type": "code",
        "colab": {}
      },
      "source": [
        "# Do the calculations\n",
        "\n",
        "x = [x_initial]\n",
        "for i in range(1, n_equib):\n",
        "  x.append(\n",
        "      r * x[-1] * (1 - x[-1])\n",
        "  )"
      ],
      "execution_count": 0,
      "outputs": []
    },
    {
      "cell_type": "code",
      "metadata": {
        "id": "AT0aCcyEq6-s",
        "colab_type": "code",
        "outputId": "a6c86515-5b06-48e5-8b92-ad4ed1f94771",
        "colab": {
          "base_uri": "https://localhost:8080/",
          "height": 312
        }
      },
      "source": [
        "# Plots\n",
        "fig = plt.figure('Progression towards equillibrium')\n",
        "ax = fig.subplots()\n",
        "ax.plot(x, '-k')\n",
        "ax.grid(True)\n",
        "ax.set_xlabel('Number of iterations')\n",
        "ax.set_ylabel('Value')\n",
        "ax.set_title('Progression of the logistic map towards equillibrium solution')"
      ],
      "execution_count": 5,
      "outputs": [
        {
          "output_type": "execute_result",
          "data": {
            "text/plain": [
              "Text(0.5, 1.0, 'Progression of the logistic map towards equillibrium solution')"
            ]
          },
          "metadata": {
            "tags": []
          },
          "execution_count": 5
        },
        {
          "output_type": "display_data",
          "data": {
            "image/png": "[encoded data removed]",
            "text/plain": [
              "<Figure size 432x288 with 1 Axes>"
            ]
          },
          "metadata": {
            "tags": [],
            "needs_background": "light"
          }
        }
      ]
    }
  ]
}