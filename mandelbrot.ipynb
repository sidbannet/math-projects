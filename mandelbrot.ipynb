{
  "nbformat": 4,
  "nbformat_minor": 0,
  "metadata": {
    "colab": {
      "name": "mandelbrot learning",
      "provenance": [],
      "private_outputs": true,
      "authorship_tag": "ABX9TyM1Gv19khoi7IYEhSh+/TlE",
      "include_colab_link": true
    },
    "kernelspec": {
      "name": "python3",
      "display_name": "Python 3"
    }
  },
  "cells": [
    {
      "cell_type": "markdown",
      "metadata": {
        "id": "view-in-github",
        "colab_type": "text"
      },
      "source": [
        "<a href=\"https://colab.research.google.com/github/sidbannet/math-projects/blob/develop/mandelbrot.ipynb\" target=\"_parent\"><img src=\"https://colab.research.google.com/assets/colab-badge.svg\" alt=\"Open In Colab\"/></a>"
      ]
    },
    {
      "cell_type": "code",
      "metadata": {
        "id": "ahundzF5JwJG",
        "colab_type": "code",
        "colab": {}
      },
      "source": [
        "MAX_ITER = 80\n",
        "\n",
        "def mandelbrot(c):\n",
        "    z = 0\n",
        "    n = 0\n",
        "    while abs(z) <= 2 and n < MAX_ITER:\n",
        "        z = z*z + c\n",
        "        n += 1\n",
        "    return n\n",
        "\n",
        "if __name__ == \"__main__\":\n",
        "    for a in range(-10, 10, 5):\n",
        "        for b in range(-10, 10, 5):\n",
        "            c = complex(a / 10, b / 10)\n",
        "            print(c, mandelbrot(c))\n",
        "\n",
        "\n",
        "from PIL import Image, ImageDraw\n",
        "from IPython.display import Image as ImageDisp\n",
        "\n",
        "# Image size (pixels)\n",
        "WIDTH = 1200\n",
        "HEIGHT = 800\n",
        "\n",
        "# Plot window\n",
        "RE_START = -2\n",
        "RE_END = 1\n",
        "IM_START = -1\n",
        "IM_END = 1\n",
        "\n",
        "palette = []\n",
        "\n",
        "im = Image.new('RGB', (WIDTH, HEIGHT), (0, 0, 0))\n",
        "draw = ImageDraw.Draw(im)\n",
        "\n",
        "for x in range(0, WIDTH):\n",
        "    for y in range(0, HEIGHT):\n",
        "        # Convert pixel coordinate to complex number\n",
        "        c = complex(RE_START + (x / WIDTH) * (RE_END - RE_START),\n",
        "                    IM_START + (y / HEIGHT) * (IM_END - IM_START))\n",
        "        # Compute the number of iterations\n",
        "        m = mandelbrot(c)\n",
        "        # The color depends on the number of iterations\n",
        "        color = 255 - int(m * 255 / MAX_ITER)\n",
        "        # Plot the point\n",
        "        draw.point([x, y], (color, color, 0))\n",
        "\n",
        "im.save('output.png', 'PNG')\n",
        "ImageDisp(filename='output.png') "
      ],
      "execution_count": 0,
      "outputs": []
    }
  ]
}