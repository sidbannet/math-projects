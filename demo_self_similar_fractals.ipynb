{
  "nbformat": 4,
  "nbformat_minor": 0,
  "metadata": {
    "colab": {
      "name": "Self-similar Fractals",
      "provenance": [],
      "private_outputs": true,
      "collapsed_sections": [],
      "toc_visible": true,
      "authorship_tag": "ABX9TyPbaSr0vSl2ABbPu71r5UtI",
      "include_colab_link": true
    },
    "kernelspec": {
      "name": "python3",
      "display_name": "Python 3"
    }
  },
  "cells": [
    {
      "cell_type": "markdown",
      "metadata": {
        "id": "view-in-github",
        "colab_type": "text"
      },
      "source": [
        "<a href=\"https://colab.research.google.com/github/sidbannet/math-projects/blob/develop/demo_self_similar_fractals.ipynb\" target=\"_parent\"><img src=\"https://colab.research.google.com/assets/colab-badge.svg\" alt=\"Open In Colab\"/></a>"
      ]
    },
    {
      "cell_type": "markdown",
      "metadata": {
        "id": "tBlIMZZvLXIr",
        "colab_type": "text"
      },
      "source": [
        "# Author Bio\n",
        "\n",
        "[LinkedIn profile](https://www.linkedin.com/in/sidban)\n",
        "\n",
        "[Resume](https://docs.google.com/document/d/1uVc9le7LM2WMmGM4ub9w2uI1FY7I63h7SBxNGyIItWc/edit?usp=sharing)\n",
        "\n",
        "[GitHub](https://github.com/sidbannet?tab=repositories)\n",
        "\n",
        "---\n",
        "I develop **high-performance computation models** to understand *turbulence flow*, *multi-phase flow* and *combustion flames*. I apply **data-science** to accelerate design innovations in *propulsion* device.\n",
        "\n",
        "I received **PhD** from **University of Wisconsin - Madison** in 2011 with major in **Mechanical and Chemical Engineering** and distributed minor in *Mathamatics*, *Statistics* and *Computer Science*.\n",
        "\n",
        "I received recognitions for my work in clean propulsion innovation from [United States Deparment Of Energy](https://www.energy.gov/eere/vehicles/vehicle-technologies-office) and [Dr. Stephen Chu](https://en.wikipedia.org/wiki/Steven_Chu)."
      ]
    },
    {
      "cell_type": "markdown",
      "metadata": {
        "id": "HPXF_Q_R9EVb",
        "colab_type": "text"
      },
      "source": [
        "# Preamble\n",
        "\n",
        "\n",
        "---\n",
        "\n",
        "\n",
        "Fractal is a sub-set of [Eucledian space](https://en.wikipedia.org/wiki/Euclidean_space) in which [fractal dimension](https://en.wikipedia.org/wiki/Hausdorff_dimension) is strictly exceeds [topological dimension](https://en.wikipedia.org/wiki/Lebesgue_covering_dimension). Self-similar fractals are geometrical objects that are similar to itself at all length scales.\n",
        "\n",
        "Fractals are extensively found in nature. So, it is used extensively to model nature. This topic is relatively new and falls under broader subject of [Chaos](https://en.wikipedia.org/wiki/Chaos_theory).\n",
        "\n",
        "Few interesting resources I found are:\n",
        "\n",
        "\n",
        "*   [Space Telescope Science Institue](http://www.stsci.edu/~lbradley/seminar/fractals.html)\n",
        "*   [Fractals and Humans](http://www.fractal.org/Life-Science-Technology/Publications/Fractals-and-Human-Biology.pdf)\n",
        "\n"
      ]
    },
    {
      "cell_type": "markdown",
      "metadata": {
        "id": "6ACj_egyhcGD",
        "colab_type": "text"
      },
      "source": [
        "# Set environment\n",
        "\n",
        "\n",
        "---\n",
        "\n",
        "\n",
        "Need to clone my [code repository](https://github.com/sidbannet/math-projects) and import appropriate packages required for this notebook."
      ]
    },
    {
      "cell_type": "code",
      "metadata": {
        "id": "_re-A_KdhUPn",
        "colab_type": "code",
        "colab": {}
      },
      "source": [
        "# Clone git repository\n",
        "!git clone https://github.com/sidbannet/math-projects.git\n",
        "%cd ./math-projects"
      ],
      "execution_count": 0,
      "outputs": []
    },
    {
      "cell_type": "code",
      "metadata": {
        "id": "HWW9CqRbiDHE",
        "colab_type": "code",
        "colab": {}
      },
      "source": [
        "# Import nessesary packages\n",
        "from mathlib import fractals as f\n",
        "from IPython.display import Image as ImageDisp"
      ],
      "execution_count": 0,
      "outputs": []
    },
    {
      "cell_type": "markdown",
      "metadata": {
        "id": "Dr8kuMLbhPTr",
        "colab_type": "text"
      },
      "source": [
        "# Mandelbrot Set\n",
        "\n",
        "\n",
        "---\n",
        "\n",
        "\n",
        "The Mandelbrot set is named after famous mathematician [Benoit Mandelbrot](https://en.wikipedia.org/wiki/Benoit_Mandelbrot). He famously showed how vizual complexities can be created from simple rule.\n",
        "\n",
        "The [Mandelbrot set](https://en.wikipedia.org/wiki/Mandelbrot_set) is a set of complex numbers $c$ for which the function $f_c(z) = z^{2} + c$ does not diverge when iterated from $z_0 = 0$. In other words, the sequence $ f_c(0), f_c(f_c(0)), ... $ remains bounded in absolute value.\n"
      ]
    },
    {
      "cell_type": "markdown",
      "metadata": {
        "id": "ijZNH_6fs6OQ",
        "colab_type": "text"
      },
      "source": [
        "In the code cell below define an instance of Mandelbrot set is defined, such that $f_c(z) := z^n + \\alpha c$. By default, $n$ is set to 2 and $\\alpha$ is set to 1.0. Initial value of $z_0$ is set to 0."
      ]
    },
    {
      "cell_type": "code",
      "metadata": {
        "id": "vKjlEdNqkwn7",
        "colab_type": "code",
        "colab": {}
      },
      "source": [
        "# Define the instance of Mandelbrot set\n",
        "mb = f.Mandelbrot()"
      ],
      "execution_count": 0,
      "outputs": []
    },
    {
      "cell_type": "markdown",
      "metadata": {
        "id": "vXYCvVCkss9M",
        "colab_type": "text"
      },
      "source": [
        "**Make image of the Mandelbrot set.**\n",
        "Potential of the Mandelbrot set $c$ is calculated in complex plane bounded by $Re \\  \\epsilon \\  [-2, 1] $ and $Im \\ \\epsilon \\ [-1, 1] \\ i$. Image shows the potential of $c$ in the complex plane."
      ]
    },
    {
      "cell_type": "code",
      "metadata": {
        "id": "gBxgJJqjlDWG",
        "colab_type": "code",
        "cellView": "form",
        "colab": {}
      },
      "source": [
        "#@title\n",
        "# Make Mandelbrot Fractal and display it\n",
        "Name_of_Image_File = 'Mandelbrot_Fractal.png'\n",
        "Type_of_Image_File = 'PNG'\n",
        "im = mb.image(color=True)\n",
        "im.save(Name_of_Image_File, Type_of_Image_File)\n",
        "ImageDisp(filename=Name_of_Image_File)"
      ],
      "execution_count": 0,
      "outputs": []
    },
    {
      "cell_type": "markdown",
      "metadata": {
        "id": "jnIp5bdu_fvC",
        "colab_type": "text"
      },
      "source": [
        "The Mandelbrot set is connected region in complex plane with large cardoid shaped region in the center. This is infinitely self-similar and have fractal dimension 2. The boundary and the set itself have the same [Hausdorff dimension](https://arxiv.org/abs/math/9201282)."
      ]
    },
    {
      "cell_type": "markdown",
      "metadata": {
        "id": "rCtVkpRHyBt8",
        "colab_type": "text"
      },
      "source": [
        "# Julia Set\n",
        "\n",
        "\n",
        "---\n",
        "\n",
        "Like Mandelbrot set, in the context of complex dynamics [Julia set](https://en.wikipedia.org/wiki/Julia_set) are used to obtain self-similar fractals.\n",
        "\n",
        "Julia set is complex plane of $z_0$ of the function $f_c(z_i) := z_i ^ n + \\alpha c$ such that given a complex constant $c$ and for $n = 2$ and $\\alpha = 1.0$ the function $f_c$ does not diverge with iterations over $i$.\n",
        "\n",
        "For a given $c$ a given Julia set of $z_0$ is obtained.\n",
        "\n",
        "The code cell below defines an instance of Julia Set with $c = -0.8 + i 0.156$"
      ]
    },
    {
      "cell_type": "code",
      "metadata": {
        "id": "0k623AikIoYl",
        "colab_type": "code",
        "colab": {}
      },
      "source": [
        "# Define an instance of Julia Set\n",
        "julia = f.JuliaSet(c=complex(0.8, 0.156))"
      ],
      "execution_count": 0,
      "outputs": []
    },
    {
      "cell_type": "markdown",
      "metadata": {
        "id": "_8NL4JQbJTD4",
        "colab_type": "text"
      },
      "source": [
        "**Make image of Julia Set**"
      ]
    },
    {
      "cell_type": "code",
      "metadata": {
        "id": "tfrGbFojJSPi",
        "colab_type": "code",
        "colab": {}
      },
      "source": [
        "# Image of Julia set\n",
        "Name_of_Julia_Image = 'Julia_Image.png'\n",
        "im_julia_set = julia.image(color=True)\n",
        "im_julia_set.save(Name_of_Julia_Image, Type_of_Image_File)\n",
        "ImageDisp(filename=Name_of_Julia_Image)"
      ],
      "execution_count": 0,
      "outputs": []
    }
  ]
}